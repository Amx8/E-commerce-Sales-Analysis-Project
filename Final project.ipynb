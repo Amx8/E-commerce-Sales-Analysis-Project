{
 "cells": [
  {
   "cell_type": "code",
   "execution_count": 1,
   "id": "d869b9ca-8b66-4923-bcad-7120e3c0b79b",
   "metadata": {},
   "outputs": [],
   "source": [
    "import pandas as pd\n",
    "import numpy as np\n",
    "import plotly.express as px\n",
    "from matplotlib import pyplot as plt \n",
    "import seaborn as sns"
   ]
  },
  {
   "cell_type": "code",
   "execution_count": 2,
   "id": "f84aef6c-8b15-4c50-aa71-fd3bee0bdf21",
   "metadata": {},
   "outputs": [
    {
     "name": "stderr",
     "output_type": "stream",
     "text": [
      "C:\\Users\\A0100\\AppData\\Local\\Temp\\ipykernel_10292\\3463096870.py:1: DtypeWarning: Columns (1,2,3,7,8,9,11,12,13,14,17,18,19) have mixed types. Specify dtype option on import or set low_memory=False.\n",
      "  df = pd.read_csv('Pakistan Largest Ecommerce Dataset.csv')\n"
     ]
    }
   ],
   "source": [
    "df = pd.read_csv('Pakistan Largest Ecommerce Dataset.csv')"
   ]
  },
  {
   "cell_type": "code",
   "execution_count": 3,
   "id": "2c8a268c-ee0a-4203-a669-0ac13c8e1769",
   "metadata": {},
   "outputs": [],
   "source": [
    "df.loc[df[\"status\"]==\"null\",\"status\"]=\"canceled\"\n",
    "df.loc[df[\"status\"]==\"\\\\N\",\"status\"]=\"canceled\"\n",
    "df.to_csv(\"updated_file.csv\",index=False)"
   ]
  },
  {
   "cell_type": "code",
   "execution_count": 4,
   "id": "9dfaf298-144c-44f2-8cc0-216b30728b2c",
   "metadata": {},
   "outputs": [],
   "source": [
    "df=df[df[\"price\"]!=0]\n",
    "df.to_csv(\"updated_file.csv\",index=False)"
   ]
  },
  {
   "cell_type": "code",
   "execution_count": 5,
   "id": "4896ccc6-323e-4347-83c9-6ced03dffffd",
   "metadata": {},
   "outputs": [],
   "source": [
    "df[\"category_name_1\"]=df[\"category_name_1\"].fillna(\"unknown\")\n",
    "df.to_csv(\"updated_file.csv\",index=False)"
   ]
  },
  {
   "cell_type": "code",
   "execution_count": 6,
   "id": "5467ec7b-bf7b-4677-8ab6-e2d619588f50",
   "metadata": {},
   "outputs": [],
   "source": [
    "df.loc[df[\"category_name_1\"]==\"\\\\N\",\"category_name_1\"]=\"unkown\"\n",
    "df.to_csv(\"updated_file.csv\",index=False)"
   ]
  },
  {
   "cell_type": "code",
   "execution_count": 7,
   "id": "6dde7c8e-08db-480c-aa84-7c072a1f76d0",
   "metadata": {},
   "outputs": [],
   "source": [
    "df=df.drop(columns=[\"sales_commission_code\"])\n",
    "df.to_csv(\"updated_file.csv\",index=False) "
   ]
  },
  {
   "cell_type": "code",
   "execution_count": 8,
   "id": "6d9b900a-f851-4f95-8d18-9858b1272385",
   "metadata": {},
   "outputs": [],
   "source": [
    "df.loc[df[\"BI Status\"]==\"#REF!\",\"BI Status\"]=\"Net\"\n",
    "df.to_csv(\"updated_file.csv\",index=False) "
   ]
  },
  {
   "cell_type": "code",
   "execution_count": 9,
   "id": "5172ddf3-ef44-46d7-a1a2-00aa8ac06d60",
   "metadata": {},
   "outputs": [],
   "source": [
    "df = df[df[\"created_at\"] != \"1\"]\n",
    "df = df[df[\"created_at\"] != \"\"]\n",
    "df.to_csv(\"clean_file.csv\",index=False)"
   ]
  },
  {
   "cell_type": "code",
   "execution_count": 10,
   "id": "3059afd2-4c4a-4c2e-91ca-c4368a1de4e4",
   "metadata": {},
   "outputs": [],
   "source": [
    "df = df[df[\"qty_ordered\"] != \"\"]\n",
    "df.to_csv(\"clean_file.csv\",index=False)"
   ]
  },
  {
   "cell_type": "code",
   "execution_count": 11,
   "id": "1719810a-297b-457a-99bd-d5392209f16f",
   "metadata": {},
   "outputs": [],
   "source": [
    "df = df[df[\"payment_method\"] != \"\"]\n",
    "df.to_csv(\"clean_file.csv\",index=False)"
   ]
  },
  {
   "cell_type": "code",
   "execution_count": 12,
   "id": "85cd0bf0-09ff-43e8-9c9f-ae51e264cfdd",
   "metadata": {},
   "outputs": [],
   "source": [
    "df = df[df[\"Working Date\"] != \"\"]\n",
    "df.to_csv(\"clean_file.csv\",index=False)"
   ]
  },
  {
   "cell_type": "code",
   "execution_count": 13,
   "id": "ec86076d-dfff-4cbe-9259-db2028d4a11f",
   "metadata": {},
   "outputs": [],
   "source": [
    "df[\"New_grand_total\"]=df[\"price\"]*df[\"qty_ordered\"]\n",
    "df.to_csv(\"updated_file.csv\",index=False)"
   ]
  },
  {
   "cell_type": "code",
   "execution_count": 14,
   "id": "e2074996-65c3-4396-a829-7b97077c39e0",
   "metadata": {},
   "outputs": [],
   "source": [
    "df = df[df[\"Customer Since\"] != \"\"]\n",
    "df = df[df[\"Customer Since\"] != \"#N/A\"]\n",
    "df = df[df[\"Customer Since\"] != 1806]\n",
    "df = df[df[\"Customer Since\"] != 25063]\n",
    "df = df[df[\"Customer Since\"] != 31987]\n",
    "df = df[df[\"Customer Since\"] != 38108]\n",
    "df = df[df[\"Customer Since\"] != 41058]\n",
    "df = df[df[\"Customer Since\"] != 42289]\n",
    "df = df[df[\"Customer Since\"] != 42396]\n",
    "df = df[df[\"Customer Since\"] != 43274] \n",
    "df = df[df[\"Customer Since\"] != 48132] \n",
    "df.to_csv(\"updated_file.csv\",index=False)\n"
   ]
  },
  {
   "cell_type": "code",
   "execution_count": 15,
   "id": "11476fe2-7431-4d75-8655-5d81c1582b49",
   "metadata": {},
   "outputs": [
    {
     "name": "stdout",
     "output_type": "stream",
     "text": [
      "4195307997.08\n"
     ]
    }
   ],
   "source": [
    "total_revenue = df[\"New_grand_total\"].sum()\n",
    "print(total_revenue)"
   ]
  },
  {
   "cell_type": "code",
   "execution_count": 16,
   "id": "b9e24a86-be2a-4b6d-a93b-20cf0654824c",
   "metadata": {},
   "outputs": [
    {
     "name": "stdout",
     "output_type": "stream",
     "text": [
      "582292\n"
     ]
    }
   ],
   "source": [
    "total_orders = df['item_id'].nunique()\n",
    "print(total_orders)"
   ]
  },
  {
   "cell_type": "code",
   "execution_count": 17,
   "id": "58c5c0d1-f7a0-45c6-a985-0cfe180aa408",
   "metadata": {},
   "outputs": [
    {
     "name": "stdout",
     "output_type": "stream",
     "text": [
      "200504\n"
     ]
    }
   ],
   "source": [
    "total_canceled_orders = df[df['status'] == 'canceled']['item_id'].count()\n",
    "print(total_canceled_orders)"
   ]
  },
  {
   "cell_type": "code",
   "execution_count": 18,
   "id": "05b663fe-3ec5-4a21-a05d-ddd43320924b",
   "metadata": {},
   "outputs": [
    {
     "name": "stdout",
     "output_type": "stream",
     "text": [
      "115081\n"
     ]
    }
   ],
   "source": [
    "total_customers = df['Customer ID'].nunique()\n",
    "print(total_customers)"
   ]
  },
  {
   "cell_type": "code",
   "execution_count": 19,
   "id": "80e0ac92-7ec0-4390-a080-a7218b305b63",
   "metadata": {},
   "outputs": [
    {
     "name": "stdout",
     "output_type": "stream",
     "text": [
      "7204.81819616275\n"
     ]
    }
   ],
   "source": [
    "avg_order_value = total_revenue / total_orders\n",
    "print(avg_order_value)"
   ]
  },
  {
   "cell_type": "code",
   "execution_count": 20,
   "id": "207e37ff-2ee9-420c-ace7-b745b37b0d10",
   "metadata": {},
   "outputs": [
    {
     "name": "stdout",
     "output_type": "stream",
     "text": [
      "Total Returning Customers: 64831\n"
     ]
    }
   ],
   "source": [
    "customer_counts = df.groupby('Customer ID').size().reset_index(name='Purchase Count')\n",
    "customer_counts['IsReturning'] = (customer_counts['Purchase Count'] > 1).astype(int)\n",
    "returning_customers = customer_counts['IsReturning'].sum()\n",
    "print(\"Total Returning Customers:\", returning_customers)"
   ]
  },
  {
   "cell_type": "code",
   "execution_count": 21,
   "id": "c9056df2-8ded-4312-802b-d855eb32166f",
   "metadata": {},
   "outputs": [
    {
     "name": "stdout",
     "output_type": "stream",
     "text": [
      "     Year Quarter  New_grand_total  Prev_Quarter_Revenue        QoQ%\n",
      "0  2016.0  2016Q3     1.594902e+08                   NaN         NaN\n",
      "1  2016.0  2016Q4     3.915064e+08          1.594902e+08  145.473567\n",
      "2  2017.0  2017Q1     2.753281e+08          3.915064e+08  -29.674678\n",
      "3  2017.0  2017Q2     4.453046e+08          2.753281e+08   61.735968\n",
      "4  2017.0  2017Q3     2.010233e+08          4.453046e+08  -54.857117\n",
      "5  2017.0  2017Q4     9.246016e+08          2.010233e+08  359.947357\n",
      "6  2018.0  2018Q1     7.637453e+08          9.246016e+08  -17.397359\n",
      "7  2018.0  2018Q2     7.013970e+08          7.637453e+08   -8.163497\n",
      "8  2018.0  2018Q3     3.329115e+08          7.013970e+08  -52.535945\n"
     ]
    }
   ],
   "source": [
    "df[\"created_at\"] = pd.to_datetime(df[\"created_at\"])\n",
    "df[\"Year\"] = df[\"created_at\"].dt.year\n",
    "df[\"Quarter\"] = df[\"created_at\"].dt.to_period(\"Q\")\n",
    "quarterly_revenue = df.groupby([\"Year\", \"Quarter\"])[\"New_grand_total\"].sum().reset_index() \n",
    "quarterly_revenue[\"Prev_Quarter_Revenue\"] = quarterly_revenue[\"New_grand_total\"].shift(1)\n",
    "quarterly_revenue[\"QoQ%\"] = (\n",
    "    (quarterly_revenue[\"New_grand_total\"] - quarterly_revenue[\"Prev_Quarter_Revenue\"])\n",
    "    / quarterly_revenue[\"Prev_Quarter_Revenue\"]\n",
    ") * 100\n",
    "print(quarterly_revenue)"
   ]
  },
  {
   "cell_type": "code",
   "execution_count": 22,
   "id": "476eda6b-82d1-4acc-92f5-1cdbfcc75e80",
   "metadata": {},
   "outputs": [
    {
     "name": "stdout",
     "output_type": "stream",
     "text": [
      "56.33510310129387\n"
     ]
    }
   ],
   "source": [
    "customer_retention_rate = (returning_customers / total_customers) * 100\n",
    "print(customer_retention_rate)"
   ]
  },
  {
   "cell_type": "code",
   "execution_count": 23,
   "id": "9335905e-418a-4748-945c-48817a4614c0",
   "metadata": {},
   "outputs": [],
   "source": [
    "cancellation_rate = (total_canceled_orders / total_orders) * 100"
   ]
  },
  {
   "cell_type": "code",
   "execution_count": 24,
   "id": "f1cbc49a-fb12-40bf-8bcf-9783cfcbda5c",
   "metadata": {},
   "outputs": [
    {
     "data": {
      "image/png": "[encoded data removed]",
      "text/plain": [
       "<Figure size 400x200 with 1 Axes>"
      ]
     },
     "metadata": {},
     "output_type": "display_data"
    }
   ],
   "source": [
    "df.columns = df.columns.str.strip()\n",
    "\n",
    "total_revenue = df[\"New_grand_total\"].sum()\n",
    "\n",
    "fig, ax = plt.subplots(figsize=(4, 2))\n",
    "ax.set_facecolor(\"#f4f4f4\")  \n",
    "ax.text(0.5, 0.5, f\"Total Revenue\\n${total_revenue:,.0f}\", \n",
    "        fontsize=20, ha=\"center\", va=\"center\", \n",
    "        fontweight=\"bold\", bbox=dict(facecolor=\"white\", edgecolor=\"black\"))\n",
    "\n",
    "ax.set_xticks([])\n",
    "ax.set_yticks([])\n",
    "ax.spines[\"top\"].set_visible(False)\n",
    "ax.spines[\"right\"].set_visible(False)\n",
    "ax.spines[\"left\"].set_visible(False)\n",
    "ax.spines[\"bottom\"].set_visible(False)\n",
    "\n",
    "plt.show()"
   ]
  },
  {
   "cell_type": "code",
   "execution_count": 25,
   "id": "8213c245-aa57-4cbc-b285-b9efdff40e20",
   "metadata": {},
   "outputs": [
    {
     "data": {
      "image/png": "[encoded data removed]",
      "text/plain": [
       "<Figure size 400x200 with 1 Axes>"
      ]
     },
     "metadata": {},
     "output_type": "display_data"
    }
   ],
   "source": [
    "df.columns = df.columns.str.strip()\n",
    "\n",
    "\n",
    "total_canceled = df[df[\"status\"] == \"canceled\"].shape[0]\n",
    "\n",
    "fig, ax = plt.subplots(figsize=(4, 2))\n",
    "ax.set_facecolor(\"#f4f4f4\")  \n",
    "ax.text(0.5, 0.5, f\"Canceled Orders\\n{total_canceled}\", \n",
    "        fontsize=20, ha=\"center\", va=\"center\", \n",
    "        fontweight=\"bold\", bbox=dict(facecolor=\"white\", edgecolor=\"black\"))\n",
    "\n",
    "\n",
    "ax.set_xticks([])\n",
    "ax.set_yticks([])\n",
    "ax.spines[\"top\"].set_visible(False)\n",
    "ax.spines[\"right\"].set_visible(False)\n",
    "ax.spines[\"left\"].set_visible(False)\n",
    "ax.spines[\"bottom\"].set_visible(False)\n",
    "\n",
    "\n",
    "plt.show()"
   ]
  },
  {
   "cell_type": "code",
   "execution_count": 26,
   "id": "9043bf0c-e6a1-4b1f-9d58-dd9eb9b6c9ab",
   "metadata": {},
   "outputs": [
    {
     "data": {
      "image/png": "[encoded data removed]",
      "text/plain": [
       "<Figure size 400x200 with 1 Axes>"
      ]
     },
     "metadata": {},
     "output_type": "display_data"
    }
   ],
   "source": [
    "total_orders = df['item_id'].nunique()\n",
    "\n",
    "\n",
    "fig, ax = plt.subplots(figsize=(4, 2))\n",
    "ax.set_facecolor(\"#f4f4f4\")  \n",
    "ax.text(0.5, 0.5, f\"Total Ordered\\n{total_orders:,.0f}\", \n",
    "        fontsize=20, ha=\"center\", va=\"center\", \n",
    "        fontweight=\"bold\", bbox=dict(facecolor=\"white\", edgecolor=\"black\"))\n",
    "\n",
    "\n",
    "ax.set_xticks([])\n",
    "ax.set_yticks([])\n",
    "ax.spines[\"top\"].set_visible(False)\n",
    "ax.spines[\"right\"].set_visible(False)\n",
    "ax.spines[\"left\"].set_visible(False)\n",
    "ax.spines[\"bottom\"].set_visible(False)\n",
    "\n",
    "\n",
    "plt.show()"
   ]
  },
  {
   "cell_type": "code",
   "execution_count": 27,
   "id": "c0b55cd4-e1ea-444e-b273-14edaf85552c",
   "metadata": {},
   "outputs": [
    {
     "data": {
      "image/png": "[encoded data removed]",
      "text/plain": [
       "<Figure size 400x200 with 1 Axes>"
      ]
     },
     "metadata": {},
     "output_type": "display_data"
    }
   ],
   "source": [
    "df.columns = df.columns.str.strip()\n",
    "\n",
    "\n",
    "total_discount = df[\"discount_amount\"].sum()\n",
    "\n",
    "\n",
    "fig, ax = plt.subplots(figsize=(4, 2))\n",
    "ax.set_facecolor(\"#f4f4f4\")  \n",
    "ax.text(0.5, 0.5, f\"Total Discount\\n{total_discount:,.0f}\", \n",
    "        fontsize=20, ha=\"center\", va=\"center\", \n",
    "        fontweight=\"bold\", bbox=dict(facecolor=\"white\", edgecolor=\"black\"))\n",
    "\n",
    "\n",
    "ax.set_xticks([])\n",
    "ax.set_yticks([])\n",
    "ax.spines[\"top\"].set_visible(False)\n",
    "ax.spines[\"right\"].set_visible(False)\n",
    "ax.spines[\"left\"].set_visible(False)\n",
    "ax.spines[\"bottom\"].set_visible(False)\n",
    "\n",
    "\n",
    "plt.show()"
   ]
  },
  {
   "cell_type": "code",
   "execution_count": 28,
   "id": "13988fdb-6980-44b6-86d4-16b428fe6b6f",
   "metadata": {},
   "outputs": [
    {
     "data": {
      "image/png": "[encoded data removed]",
      "text/plain": [
       "<Figure size 800x400 with 1 Axes>"
      ]
     },
     "metadata": {},
     "output_type": "display_data"
    }
   ],
   "source": [
    "df.columns = df.columns.str.strip()\n",
    "\n",
    "\n",
    "df[\"Year\"] = pd.to_numeric(df[\"Year\"], errors=\"coerce\")\n",
    "\n",
    "\n",
    "yearly_total = df.groupby(\"Year\")[\"grand_total\"].sum()\n",
    "\n",
    "\n",
    "plt.figure(figsize=(8, 4))\n",
    "plt.plot(yearly_total.index, yearly_total.values, marker=\"o\", linestyle=\"-\", color=\"b\", linewidth=2, markersize=6)\n",
    "\n",
    "\n",
    "plt.xlabel(\"Year\", fontsize=12, fontweight=\"bold\")\n",
    "plt.ylabel(\"Grand Total\", fontsize=12, fontweight=\"bold\")\n",
    "plt.title(\"Grand Total by Year\", fontsize=14, fontweight=\"bold\")\n",
    "plt.grid(True, linestyle=\"--\", alpha=0.6)\n",
    "\n",
    "\n",
    "plt.show()"
   ]
  },
  {
   "cell_type": "code",
   "execution_count": 29,
   "id": "ae9972ae-302f-44e2-8474-20ac0aa5bb71",
   "metadata": {},
   "outputs": [
    {
     "data": {
      "image/png": "[encoded data removed]",
      "text/plain": [
       "<Figure size 1000x500 with 1 Axes>"
      ]
     },
     "metadata": {},
     "output_type": "display_data"
    }
   ],
   "source": [
    "df.columns = df.columns.str.strip()\n",
    "\n",
    "\n",
    "df[\"Year\"] = pd.to_numeric(df[\"Year\"], errors=\"coerce\")\n",
    "df[\"Month\"] = pd.to_numeric(df[\"Month\"], errors=\"coerce\")\n",
    "\n",
    "\n",
    "df[\"Quarter\"] = ((df[\"Month\"] - 1) // 3 + 1).astype(str)\n",
    "df[\"Year-Quarter\"] = df[\"Year\"].astype(str) + \" Q\" + df[\"Quarter\"]\n",
    "\n",
    "\n",
    "quarterly_revenue = df.groupby(\"Year-Quarter\")[\"grand_total\"].sum().reset_index()\n",
    "\n",
    "\n",
    "plt.figure(figsize=(10, 5))\n",
    "\n",
    "\n",
    "sns.barplot(x=\"Year-Quarter\", y=\"grand_total\", data=quarterly_revenue, color=\"blue\", alpha=0.7, label=\"Revenue\")\n",
    "\n",
    "\n",
    "plt.plot(quarterly_revenue[\"Year-Quarter\"], quarterly_revenue[\"grand_total\"], marker=\"o\", linestyle=\"-\", color=\"red\", label=\"Trend Line\")\n",
    "\n",
    "\n",
    "plt.xlabel(\"Year & Quarter\", fontsize=12, fontweight=\"bold\")\n",
    "plt.ylabel(\"Total Revenue\", fontsize=12, fontweight=\"bold\")\n",
    "plt.title(\"Total Revenue by Year and Quarter\", fontsize=14, fontweight=\"bold\")\n",
    "plt.xticks(rotation=45, ha=\"right\")\n",
    "plt.legend()\n",
    "\n",
    "\n",
    "plt.show()"
   ]
  },
  {
   "cell_type": "code",
   "execution_count": 30,
   "id": "2d07b9f3-d8b0-44ec-99c9-7e6082e58d1b",
   "metadata": {},
   "outputs": [
    {
     "data": {
      "image/png": "[encoded data removed]",
      "text/plain": [
       "<Figure size 400x200 with 1 Axes>"
      ]
     },
     "metadata": {},
     "output_type": "display_data"
    }
   ],
   "source": [
    "df.columns = df.columns.str.strip()  \n",
    "\n",
    "total_orders = len(df)\n",
    "canceled_orders = df[df[\"status\"] == \"canceled\"].shape[0]\n",
    "\n",
    "\n",
    "cancellation_rate = (canceled_orders / total_orders) * 100\n",
    "\n",
    "\n",
    "fig, ax = plt.subplots(figsize=(4, 2))\n",
    "ax.text(0.5, 0.5, f\"Cancellation Rate\\n{cancellation_rate:.2f}%\", \n",
    "        fontsize=20, ha='center', va='center', fontweight='bold')\n",
    "\n",
    "ax.set_xticks([])  \n",
    "ax.set_yticks([])  \n",
    "ax.spines['top'].set_visible(False)\n",
    "ax.spines['right'].set_visible(False)\n",
    "ax.spines['left'].set_visible(False)\n",
    "ax.spines['bottom'].set_visible(False)\n",
    "\n",
    "plt.show()"
   ]
  },
  {
   "cell_type": "code",
   "execution_count": 31,
   "id": "4db17174-1f24-49fb-be8d-775d836cb3be",
   "metadata": {},
   "outputs": [
    {
     "name": "stderr",
     "output_type": "stream",
     "text": [
      "C:\\Users\\A0100\\AppData\\Local\\Temp\\ipykernel_10292\\2568008238.py:11: FutureWarning: \n",
      "\n",
      "Passing `palette` without assigning `hue` is deprecated and will be removed in v0.14.0. Assign the `x` variable to `hue` and set `legend=False` for the same effect.\n",
      "\n",
      "  sns.barplot(data=sku_orders, x=\"sku\", y=\"qty_ordered\", palette=\"viridis\")\n"
     ]
    },
    {
     "data": {
      "image/png": "[encoded data removed]",
      "text/plain": [
       "<Figure size 1200x600 with 1 Axes>"
      ]
     },
     "metadata": {},
     "output_type": "display_data"
    }
   ],
   "source": [
    "df.columns = df.columns.str.strip()\n",
    "\n",
    "\n",
    "sku_orders = df.groupby(\"sku\")[\"qty_ordered\"].sum().reset_index()\n",
    "\n",
    "\n",
    "sku_orders = sku_orders.sort_values(by=\"qty_ordered\", ascending=False).head(20)  \n",
    "\n",
    "\n",
    "plt.figure(figsize=(12, 6))\n",
    "sns.barplot(data=sku_orders, x=\"sku\", y=\"qty_ordered\", palette=\"viridis\")\n",
    "\n",
    "\n",
    "plt.xticks(rotation=90)  \n",
    "plt.xlabel(\"SKU\")\n",
    "plt.ylabel(\"Total Ordered Quantity\")\n",
    "plt.title(\"Total Order Quantity by SKU (Top 20)\")\n",
    "\n",
    "\n",
    "plt.show()"
   ]
  },
  {
   "cell_type": "code",
   "execution_count": 32,
   "id": "a0b1aa6b-125a-4674-a194-22f185ff749a",
   "metadata": {},
   "outputs": [
    {
     "data": {
      "image/png": "[encoded data removed]",
      "text/plain": [
       "<Figure size 1000x500 with 1 Axes>"
      ]
     },
     "metadata": {},
     "output_type": "display_data"
    }
   ],
   "source": [
    "df_daily_sales = df.groupby(\"created_at\")[\"New_grand_total\"].sum().reset_index()\n",
    "\n",
    "plt.figure(figsize=(10, 5))\n",
    "plt.plot(df_daily_sales[\"created_at\"], df_daily_sales[\"New_grand_total\"], marker=\"o\", linestyle=\"-\", color=\"b\")\n",
    "plt.xlabel(\"Date\")\n",
    "plt.ylabel(\"Total Sales\")\n",
    "plt.title(\"Daily Sales Trend\")\n",
    "plt.xticks(rotation=45)\n",
    "plt.grid()\n",
    "plt.show()\n",
    "\n"
   ]
  },
  {
   "cell_type": "code",
   "execution_count": 33,
   "id": "9fe833c7-062e-4294-94b0-edb23a1b554d",
   "metadata": {},
   "outputs": [
    {
     "data": {
      "image/png": "[encoded data removed]",
      "text/plain": [
       "<Figure size 1000x500 with 1 Axes>"
      ]
     },
     "metadata": {},
     "output_type": "display_data"
    }
   ],
   "source": [
    "df_category_sales = df.groupby(\"category_name_1\")[\"New_grand_total\"].sum().sort_values(ascending=False)\n",
    "\n",
    "plt.figure(figsize=(10, 5))\n",
    "df_category_sales.plot(kind=\"bar\", color=\"skyblue\")\n",
    "plt.xlabel(\"Category\")\n",
    "plt.ylabel(\"Total Sales\")\n",
    "plt.title(\"Sales Distribution by Category\")\n",
    "plt.xticks(rotation=45)\n",
    "plt.grid()\n",
    "plt.show()"
   ]
  },
  {
   "cell_type": "code",
   "execution_count": 34,
   "id": "6c2a34b9-a298-45fc-9e6c-82ca18f4b76b",
   "metadata": {},
   "outputs": [
    {
     "name": "stderr",
     "output_type": "stream",
     "text": [
      "C:\\Users\\A0100\\AppData\\Local\\Temp\\ipykernel_10292\\2075611668.py:2: FutureWarning: \n",
      "\n",
      "Passing `palette` without assigning `hue` is deprecated and will be removed in v0.14.0. Assign the `x` variable to `hue` and set `legend=False` for the same effect.\n",
      "\n",
      "  sns.countplot(data=df, x=\"BI Status\", palette=\"coolwarm\")\n"
     ]
    },
    {
     "data": {
      "image/png": "[encoded data removed]",
      "text/plain": [
       "<Figure size 900x400 with 1 Axes>"
      ]
     },
     "metadata": {},
     "output_type": "display_data"
    }
   ],
   "source": [
    "plt.figure(figsize=(9, 4))\n",
    "sns.countplot(data=df, x=\"BI Status\", palette=\"coolwarm\")\n",
    "plt.title(\"Sales Count by BI Status\")\n",
    "plt.xlabel(\"BI Status\")\n",
    "plt.ylabel(\"Count\")\n",
    "plt.xticks(rotation=45)\n",
    "plt.show()"
   ]
  },
  {
   "cell_type": "code",
   "execution_count": 35,
   "id": "eac17aa7-3a9d-4928-ae16-04a1126239db",
   "metadata": {},
   "outputs": [
    {
     "data": {
      "application/vnd.plotly.v1+json": {
       "config": {
        "plotlyServerURL": "https://plot.ly"
       },
       "data": [
        {
         "hovertemplate": "created_at=%{x}<br>New_grand_total=%{y}<extra></extra>",
         "legendgroup": "",
         "line": {
          "color": "#636efa",
          "dash": "solid"
         },
         "marker": {
          "symbol": "circle"
         },
         "mode": "lines",
         "name": "",
         "orientation": "v",
         "showlegend": false,
         "type": "scatter",
         "x": [
          "2016-07-01T00:00:00",
          "2016-07-02T00:00:00",
          "2016-07-03T00:00:00",
          "2016-07-04T00:00:00",
          "2016-07-05T00:00:00",
          "2016-07-06T00:00:00",
          "2016-07-07T00:00:00",
          "2016-07-08T00:00:00",
          "2016-07-09T00:00:00",
          "2016-07-10T00:00:00",
          "2016-07-11T00:00:00",
          "2016-07-12T00:00:00",
          "2016-07-13T00:00:00",
          "2016-07-14T00:00:00",
          "2016-07-15T00:00:00",
          "2016-07-16T00:00:00",
          "2016-07-17T00:00:00",
          "2016-07-18T00:00:00",
          "2016-07-19T00:00:00",
          "2016-07-20T00:00:00",
          "2016-07-21T00:00:00",
          "2016-07-22T00:00:00",
          "2016-07-23T00:00:00",
          "2016-07-24T00:00:00",
          "2016-07-25T00:00:00",
          "2016-07-26T00:00:00",
          "2016-07-27T00:00:00",
          "2016-07-28T00:00:00",
          "2016-07-29T00:00:00",
          "2016-07-30T00:00:00",
          "2016-07-31T00:00:00",
          "2016-08-01T00:00:00",
          "2016-08-02T00:00:00",
          "2016-08-03T00:00:00",
          "2016-08-04T00:00:00",
          "2016-08-05T00:00:00",
          "2016-08-06T00:00:00",
          "2016-08-07T00:00:00",
          "2016-08-08T00:00:00",
          "2016-08-09T00:00:00",
          "2016-08-10T00:00:00",
          "2016-08-11T00:00:00",
          "2016-08-12T00:00:00",
          "2016-08-13T00:00:00",
          "2016-08-14T00:00:00",
          "2016-08-15T00:00:00",
          "2016-08-16T00:00:00",
          "2016-08-17T00:00:00",
          "2016-08-18T00:00:00",
          "2016-08-19T00:00:00",
          "2016-08-20T00:00:00",
          "2016-08-21T00:00:00",
          "2016-08-22T00:00:00",
          "2016-08-23T00:00:00",
          "2016-08-24T00:00:00",
          "2016-08-25T00:00:00",
          "2016-08-26T00:00:00",
          "2016-08-27T00:00:00",
          "2016-08-28T00:00:00",
          "2016-08-29T00:00:00",
          "2016-08-30T00:00:00",
          "2016-08-31T00:00:00",
          "2016-09-01T00:00:00",
          "2016-09-02T00:00:00",
          "2016-09-03T00:00:00",
          "2016-09-04T00:00:00",
          "2016-09-05T00:00:00",
          "2016-09-06T00:00:00",
          "2016-09-07T00:00:00",
          "2016-09-08T00:00:00",
          "2016-09-09T00:00:00",
          "2016-09-10T00:00:00",
          "2016-09-11T00:00:00",
          "2016-09-12T00:00:00",
          "2016-09-13T00:00:00",
          "2016-09-14T00:00:00",
          "2016-09-15T00:00:00",
          "2016-09-16T00:00:00",
          "2016-09-17T00:00:00",
          "2016-09-18T00:00:00",
          "2016-09-19T00:00:00",
          "2016-09-20T00:00:00",
          "2016-09-21T00:00:00",
          "2016-09-22T00:00:00",
          "2016-09-23T00:00:00",
          "2016-09-24T00:00:00",
          "2016-09-25T00:00:00",
          "2016-09-26T00:00:00",
          "2016-09-27T00:00:00",
          "2016-09-28T00:00:00",
          "2016-09-29T00:00:00",
          "2016-09-30T00:00:00",
          "2016-10-01T00:00:00",
          "2016-10-02T00:00:00",
          "2016-10-03T00:00:00",
          "2016-10-04T00:00:00",
          "2016-10-05T00:00:00",
          "2016-10-06T00:00:00",
          "2016-10-07T00:00:00",
          "2016-10-08T00:00:00",
          "2016-10-09T00:00:00",
          "2016-10-10T00:00:00",
          "2016-10-11T00:00:00",
          "2016-10-12T00:00:00",
          "2016-10-13T00:00:00",
          "2016-10-14T00:00:00",
          "2016-10-15T00:00:00",
          "2016-10-16T00:00:00",
          "2016-10-17T00:00:00",
          "2016-10-18T00:00:00",
          "2016-10-19T00:00:00",
          "2016-10-20T00:00:00",
          "2016-10-21T00:00:00",
          "2016-10-22T00:00:00",
          "2016-10-23T00:00:00",
          "2016-10-24T00:00:00",
          "2016-10-25T00:00:00",
          "2016-10-26T00:00:00",
          "2016-10-27T00:00:00",
          "2016-10-28T00:00:00",
          "2016-10-29T00:00:00",
          "2016-10-30T00:00:00",
          "2016-10-31T00:00:00",
          "2016-11-01T00:00:00",
          "2016-11-02T00:00:00",
          "2016-11-03T00:00:00",
          "2016-11-04T00:00:00",
          "2016-11-05T00:00:00",
          "2016-11-06T00:00:00",
          "2016-11-07T00:00:00",
          "2016-11-08T00:00:00",
          "2016-11-09T00:00:00",
          "2016-11-10T00:00:00",
          "2016-11-11T00:00:00",
          "2016-11-12T00:00:00",
          "2016-11-13T00:00:00",
          "2016-11-14T00:00:00",
          "2016-11-15T00:00:00",
          "2016-11-16T00:00:00",
          "2016-11-17T00:00:00",
          "2016-11-18T00:00:00",
          "2016-11-19T00:00:00",
          "2016-11-20T00:00:00",
          "2016-11-21T00:00:00",
          "2016-11-22T00:00:00",
          "2016-11-23T00:00:00",
          "2016-11-24T00:00:00",
          "2016-11-25T00:00:00",
          "2016-11-26T00:00:00",
          "2016-11-27T00:00:00",
          "2016-11-28T00:00:00",
          "2016-11-29T00:00:00",
          "2016-11-30T00:00:00",
          "2016-12-01T00:00:00",
          "2016-12-02T00:00:00",
          "2016-12-03T00:00:00",
          "2016-12-04T00:00:00",
          "2016-12-05T00:00:00",
          "2016-12-06T00:00:00",
          "2016-12-07T00:00:00",
          "2016-12-08T00:00:00",
          "2016-12-09T00:00:00",
          "2016-12-10T00:00:00",
          "2016-12-11T00:00:00",
          "2016-12-12T00:00:00",
          "2016-12-13T00:00:00",
          "2016-12-14T00:00:00",
          "2016-12-15T00:00:00",
          "2016-12-16T00:00:00",
          "2016-12-17T00:00:00",
          "2016-12-18T00:00:00",
          "2016-12-19T00:00:00",
          "2016-12-20T00:00:00",
          "2016-12-21T00:00:00",
          "2016-12-22T00:00:00",
          "2016-12-23T00:00:00",
          "2016-12-24T00:00:00",
          "2016-12-25T00:00:00",
          "2016-12-26T00:00:00",
          "2016-12-27T00:00:00",
          "2016-12-28T00:00:00",
          "2016-12-29T00:00:00",
          "2016-12-30T00:00:00",
          "2016-12-31T00:00:00",
          "2017-01-01T00:00:00",
          "2017-01-02T00:00:00",
          "2017-01-03T00:00:00",
          "2017-01-04T00:00:00",
          "2017-01-05T00:00:00",
          "2017-01-06T00:00:00",
          "2017-01-07T00:00:00",
          "2017-01-08T00:00:00",
          "2017-01-09T00:00:00",
          "2017-01-10T00:00:00",
          "2017-01-11T00:00:00",
          "2017-01-12T00:00:00",
          "2017-01-13T00:00:00",
          "2017-01-14T00:00:00",
          "2017-01-15T00:00:00",
          "2017-01-16T00:00:00",
          "2017-01-17T00:00:00",
          "2017-01-18T00:00:00",
          "2017-01-19T00:00:00",
          "2017-01-20T00:00:00",
          "2017-01-21T00:00:00",
          "2017-01-22T00:00:00",
          "2017-01-23T00:00:00",
          "2017-01-24T00:00:00",
          "2017-01-25T00:00:00",
          "2017-01-26T00:00:00",
          "2017-01-27T00:00:00",
          "2017-01-28T00:00:00",
          "2017-01-29T00:00:00",
          "2017-01-30T00:00:00",
          "2017-01-31T00:00:00",
          "2017-02-01T00:00:00",
          "2017-02-02T00:00:00",
          "2017-02-03T00:00:00",
          "2017-02-04T00:00:00",
          "2017-02-05T00:00:00",
          "2017-02-06T00:00:00",
          "2017-02-07T00:00:00",
          "2017-02-08T00:00:00",
          "2017-02-09T00:00:00",
          "2017-02-10T00:00:00",
          "2017-02-11T00:00:00",
          "2017-02-12T00:00:00",
          "2017-02-13T00:00:00",
          "2017-02-14T00:00:00",
          "2017-02-15T00:00:00",
          "2017-02-16T00:00:00",
          "2017-02-17T00:00:00",
          "2017-02-18T00:00:00",
          "2017-02-19T00:00:00",
          "2017-02-20T00:00:00",
          "2017-02-21T00:00:00",
          "2017-02-22T00:00:00",
          "2017-02-23T00:00:00",
          "2017-02-24T00:00:00",
          "2017-02-25T00:00:00",
          "2017-02-26T00:00:00",
          "2017-02-27T00:00:00",
          "2017-02-28T00:00:00",
          "2017-03-01T00:00:00",
          "2017-03-02T00:00:00",
          "2017-03-03T00:00:00",
          "2017-03-04T00:00:00",
          "2017-03-05T00:00:00",
          "2017-03-06T00:00:00",
          "2017-03-07T00:00:00",
          "2017-03-08T00:00:00",
          "2017-03-09T00:00:00",
          "2017-03-10T00:00:00",
          "2017-03-11T00:00:00",
          "2017-03-12T00:00:00",
          "2017-03-13T00:00:00",
          "2017-03-14T00:00:00",
          "2017-03-15T00:00:00",
          "2017-03-16T00:00:00",
          "2017-03-17T00:00:00",
          "2017-03-18T00:00:00",
          "2017-03-19T00:00:00",
          "2017-03-20T00:00:00",
          "2017-03-21T00:00:00",
          "2017-03-22T00:00:00",
          "2017-03-23T00:00:00",
          "2017-03-24T00:00:00",
          "2017-03-25T00:00:00",
          "2017-03-26T00:00:00",
          "2017-03-27T00:00:00",
          "2017-03-28T00:00:00",
          "2017-03-29T00:00:00",
          "2017-03-30T00:00:00",
          "2017-03-31T00:00:00",
          "2017-04-01T00:00:00",
          "2017-04-02T00:00:00",
          "2017-04-03T00:00:00",
          "2017-04-04T00:00:00",
          "2017-04-05T00:00:00",
          "2017-04-06T00:00:00",
          "2017-04-07T00:00:00",
          "2017-04-08T00:00:00",
          "2017-04-09T00:00:00",
          "2017-04-10T00:00:00",
          "2017-04-11T00:00:00",
          "2017-04-12T00:00:00",
          "2017-04-13T00:00:00",
          "2017-04-14T00:00:00",
          "2017-04-15T00:00:00",
          "2017-04-16T00:00:00",
          "2017-04-17T00:00:00",
          "2017-04-18T00:00:00",
          "2017-04-19T00:00:00",
          "2017-04-20T00:00:00",
          "2017-04-21T00:00:00",
          "2017-04-22T00:00:00",
          "2017-04-23T00:00:00",
          "2017-04-24T00:00:00",
          "2017-04-25T00:00:00",
          "2017-04-26T00:00:00",
          "2017-04-27T00:00:00",
          "2017-04-28T00:00:00",
          "2017-04-29T00:00:00",
          "2017-04-30T00:00:00",
          "2017-05-01T00:00:00",
          "2017-05-02T00:00:00",
          "2017-05-03T00:00:00",
          "2017-05-04T00:00:00",
          "2017-05-05T00:00:00",
          "2017-05-06T00:00:00",
          "2017-05-07T00:00:00",
          "2017-05-08T00:00:00",
          "2017-05-09T00:00:00",
          "2017-05-10T00:00:00",
          "2017-05-11T00:00:00",
          "2017-05-12T00:00:00",
          "2017-05-13T00:00:00",
          "2017-05-14T00:00:00",
          "2017-05-15T00:00:00",
          "2017-05-16T00:00:00",
          "2017-05-17T00:00:00",
          "2017-05-18T00:00:00",
          "2017-05-19T00:00:00",
          "2017-05-20T00:00:00",
          "2017-05-21T00:00:00",
          "2017-05-22T00:00:00",
          "2017-05-23T00:00:00",
          "2017-05-24T00:00:00",
          "2017-05-25T00:00:00",
          "2017-05-26T00:00:00",
          "2017-05-27T00:00:00",
          "2017-05-28T00:00:00",
          "2017-05-29T00:00:00",
          "2017-05-30T00:00:00",
          "2017-05-31T00:00:00",
          "2017-06-01T00:00:00",
          "2017-06-02T00:00:00",
          "2017-06-03T00:00:00",
          "2017-06-04T00:00:00",
          "2017-06-05T00:00:00",
          "2017-06-06T00:00:00",
          "2017-06-07T00:00:00",
          "2017-06-08T00:00:00",
          "2017-06-09T00:00:00",
          "2017-06-10T00:00:00",
          "2017-06-11T00:00:00",
          "2017-06-12T00:00:00",
          "2017-06-13T00:00:00",
          "2017-06-14T00:00:00",
          "2017-06-15T00:00:00",
          "2017-06-16T00:00:00",
          "2017-06-17T00:00:00",
          "2017-06-18T00:00:00",
          "2017-06-19T00:00:00",
          "2017-06-20T00:00:00",
          "2017-06-21T00:00:00",
          "2017-06-22T00:00:00",
          "2017-06-23T00:00:00",
          "2017-06-24T00:00:00",
          "2017-06-25T00:00:00",
          "2017-06-26T00:00:00",
          "2017-06-27T00:00:00",
          "2017-06-28T00:00:00",
          "2017-06-29T00:00:00",
          "2017-06-30T00:00:00",
          "2017-07-01T00:00:00",
          "2017-07-02T00:00:00",
          "2017-07-03T00:00:00",
          "2017-07-04T00:00:00",
          "2017-07-05T00:00:00",
          "2017-07-06T00:00:00",
          "2017-07-07T00:00:00",
          "2017-07-08T00:00:00",
          "2017-07-09T00:00:00",
          "2017-07-10T00:00:00",
          "2017-07-11T00:00:00",
          "2017-07-12T00:00:00",
          "2017-07-13T00:00:00",
          "2017-07-14T00:00:00",
          "2017-07-15T00:00:00",
          "2017-07-16T00:00:00",
          "2017-07-17T00:00:00",
          "2017-07-18T00:00:00",
          "2017-07-19T00:00:00",
          "2017-07-20T00:00:00",
          "2017-07-21T00:00:00",
          "2017-07-22T00:00:00",
          "2017-07-23T00:00:00",
          "2017-07-24T00:00:00",
          "2017-07-25T00:00:00",
          "2017-07-26T00:00:00",
          "2017-07-27T00:00:00",
          "2017-07-28T00:00:00",
          "2017-07-29T00:00:00",
          "2017-07-30T00:00:00",
          "2017-07-31T00:00:00",
          "2017-08-01T00:00:00",
          "2017-08-02T00:00:00",
          "2017-08-03T00:00:00",
          "2017-08-04T00:00:00",
          "2017-08-05T00:00:00",
          "2017-08-06T00:00:00",
          "2017-08-07T00:00:00",
          "2017-08-08T00:00:00",
          "2017-08-09T00:00:00",
          "2017-08-10T00:00:00",
          "2017-08-11T00:00:00",
          "2017-08-12T00:00:00",
          "2017-08-13T00:00:00",
          "2017-08-14T00:00:00",
          "2017-08-15T00:00:00",
          "2017-08-16T00:00:00",
          "2017-08-17T00:00:00",
          "2017-08-18T00:00:00",
          "2017-08-19T00:00:00",
          "2017-08-20T00:00:00",
          "2017-08-21T00:00:00",
          "2017-08-22T00:00:00",
          "2017-08-23T00:00:00",
          "2017-08-24T00:00:00",
          "2017-08-25T00:00:00",
          "2017-08-26T00:00:00",
          "2017-08-27T00:00:00",
          "2017-08-28T00:00:00",
          "2017-08-29T00:00:00",
          "2017-08-30T00:00:00",
          "2017-08-31T00:00:00",
          "2017-09-01T00:00:00",
          "2017-09-02T00:00:00",
          "2017-09-03T00:00:00",
          "2017-09-04T00:00:00",
          "2017-09-05T00:00:00",
          "2017-09-06T00:00:00",
          "2017-09-07T00:00:00",
          "2017-09-08T00:00:00",
          "2017-09-09T00:00:00",
          "2017-09-10T00:00:00",
          "2017-09-11T00:00:00",
          "2017-09-12T00:00:00",
          "2017-09-13T00:00:00",
          "2017-09-14T00:00:00",
          "2017-09-15T00:00:00",
          "2017-09-16T00:00:00",
          "2017-09-17T00:00:00",
          "2017-09-18T00:00:00",
          "2017-09-19T00:00:00",
          "2017-09-20T00:00:00",
          "2017-09-21T00:00:00",
          "2017-09-22T00:00:00",
          "2017-09-23T00:00:00",
          "2017-09-24T00:00:00",
          "2017-09-25T00:00:00",
          "2017-09-26T00:00:00",
          "2017-09-27T00:00:00",
          "2017-09-28T00:00:00",
          "2017-09-29T00:00:00",
          "2017-09-30T00:00:00",
          "2017-10-01T00:00:00",
          "2017-10-02T00:00:00",
          "2017-10-03T00:00:00",
          "2017-10-04T00:00:00",
          "2017-10-05T00:00:00",
          "2017-10-06T00:00:00",
          "2017-10-07T00:00:00",
          "2017-10-08T00:00:00",
          "2017-10-09T00:00:00",
          "2017-10-10T00:00:00",
          "2017-10-11T00:00:00",
          "2017-10-12T00:00:00",
          "2017-10-13T00:00:00",
          "2017-10-14T00:00:00",
          "2017-10-15T00:00:00",
          "2017-10-16T00:00:00",
          "2017-10-17T00:00:00",
          "2017-10-18T00:00:00",
          "2017-10-19T00:00:00",
          "2017-10-20T00:00:00",
          "2017-10-21T00:00:00",
          "2017-10-22T00:00:00",
          "2017-10-23T00:00:00",
          "2017-10-24T00:00:00",
          "2017-10-25T00:00:00",
          "2017-10-26T00:00:00",
          "2017-10-27T00:00:00",
          "2017-10-28T00:00:00",
          "2017-10-29T00:00:00",
          "2017-10-30T00:00:00",
          "2017-10-31T00:00:00",
          "2017-11-01T00:00:00",
          "2017-11-02T00:00:00",
          "2017-11-03T00:00:00",
          "2017-11-04T00:00:00",
          "2017-11-05T00:00:00",
          "2017-11-06T00:00:00",
          "2017-11-07T00:00:00",
          "2017-11-08T00:00:00",
          "2017-11-09T00:00:00",
          "2017-11-10T00:00:00",
          "2017-11-11T00:00:00",
          "2017-11-12T00:00:00",
          "2017-11-13T00:00:00",
          "2017-11-14T00:00:00",
          "2017-11-15T00:00:00",
          "2017-11-16T00:00:00",
          "2017-11-17T00:00:00",
          "2017-11-18T00:00:00",
          "2017-11-19T00:00:00",
          "2017-11-20T00:00:00",
          "2017-11-21T00:00:00",
          "2017-11-22T00:00:00",
          "2017-11-23T00:00:00",
          "2017-11-24T00:00:00",
          "2017-11-25T00:00:00",
          "2017-11-26T00:00:00",
          "2017-11-27T00:00:00",
          "2017-11-28T00:00:00",
          "2017-11-29T00:00:00",
          "2017-11-30T00:00:00",
          "2017-12-01T00:00:00",
          "2017-12-02T00:00:00",
          "2017-12-03T00:00:00",
          "2017-12-04T00:00:00",
          "2017-12-05T00:00:00",
          "2017-12-06T00:00:00",
          "2017-12-07T00:00:00",
          "2017-12-08T00:00:00",
          "2017-12-09T00:00:00",
          "2017-12-10T00:00:00",
          "2017-12-11T00:00:00",
          "2017-12-12T00:00:00",
          "2017-12-13T00:00:00",
          "2017-12-14T00:00:00",
          "2017-12-15T00:00:00",
          "2017-12-16T00:00:00",
          "2017-12-17T00:00:00",
          "2017-12-18T00:00:00",
          "2017-12-19T00:00:00",
          "2017-12-20T00:00:00",
          "2017-12-21T00:00:00",
          "2017-12-22T00:00:00",
          "2017-12-23T00:00:00",
          "2017-12-24T00:00:00",
          "2017-12-25T00:00:00",
          "2017-12-26T00:00:00",
          "2017-12-27T00:00:00",
          "2017-12-28T00:00:00",
          "2017-12-29T00:00:00",
          "2017-12-30T00:00:00",
          "2017-12-31T00:00:00",
          "2018-01-01T00:00:00",
          "2018-01-02T00:00:00",
          "2018-01-03T00:00:00",
          "2018-01-04T00:00:00",
          "2018-01-05T00:00:00",
          "2018-01-06T00:00:00",
          "2018-01-07T00:00:00",
          "2018-01-08T00:00:00",
          "2018-01-09T00:00:00",
          "2018-01-10T00:00:00",
          "2018-01-11T00:00:00",
          "2018-01-12T00:00:00",
          "2018-01-13T00:00:00",
          "2018-01-14T00:00:00",
          "2018-01-15T00:00:00",
          "2018-01-16T00:00:00",
          "2018-01-17T00:00:00",
          "2018-01-18T00:00:00",
          "2018-01-19T00:00:00",
          "2018-01-20T00:00:00",
          "2018-01-21T00:00:00",
          "2018-01-22T00:00:00",
          "2018-01-23T00:00:00",
          "2018-01-24T00:00:00",
          "2018-01-25T00:00:00",
          "2018-01-26T00:00:00",
          "2018-01-27T00:00:00",
          "2018-01-28T00:00:00",
          "2018-01-29T00:00:00",
          "2018-01-30T00:00:00",
          "2018-01-31T00:00:00",
          "2018-02-01T00:00:00",
          "2018-02-02T00:00:00",
          "2018-02-03T00:00:00",
          "2018-02-04T00:00:00",
          "2018-02-05T00:00:00",
          "2018-02-06T00:00:00",
          "2018-02-07T00:00:00",
          "2018-02-08T00:00:00",
          "2018-02-09T00:00:00",
          "2018-02-10T00:00:00",
          "2018-02-11T00:00:00",
          "2018-02-12T00:00:00",
          "2018-02-13T00:00:00",
          "2018-02-14T00:00:00",
          "2018-02-15T00:00:00",
          "2018-02-16T00:00:00",
          "2018-02-17T00:00:00",
          "2018-02-18T00:00:00",
          "2018-02-19T00:00:00",
          "2018-02-20T00:00:00",
          "2018-02-21T00:00:00",
          "2018-02-22T00:00:00",
          "2018-02-23T00:00:00",
          "2018-02-24T00:00:00",
          "2018-02-25T00:00:00",
          "2018-02-26T00:00:00",
          "2018-02-27T00:00:00",
          "2018-02-28T00:00:00",
          "2018-03-01T00:00:00",
          "2018-03-02T00:00:00",
          "2018-03-03T00:00:00",
          "2018-03-04T00:00:00",
          "2018-03-05T00:00:00",
          "2018-03-06T00:00:00",
          "2018-03-07T00:00:00",
          "2018-03-08T00:00:00",
          "2018-03-09T00:00:00",
          "2018-03-10T00:00:00",
          "2018-03-11T00:00:00",
          "2018-03-12T00:00:00",
          "2018-03-13T00:00:00",
          "2018-03-14T00:00:00",
          "2018-03-15T00:00:00",
          "2018-03-16T00:00:00",
          "2018-03-17T00:00:00",
          "2018-03-18T00:00:00",
          "2018-03-19T00:00:00",
          "2018-03-20T00:00:00",
          "2018-03-21T00:00:00",
          "2018-03-22T00:00:00",
          "2018-03-23T00:00:00",
          "2018-03-24T00:00:00",
          "2018-03-25T00:00:00",
          "2018-03-26T00:00:00",
          "2018-03-27T00:00:00",
          "2018-03-28T00:00:00",
          "2018-03-29T00:00:00",
          "2018-03-30T00:00:00",
          "2018-03-31T00:00:00",
          "2018-04-01T00:00:00",
          "2018-04-02T00:00:00",
          "2018-04-03T00:00:00",
          "2018-04-04T00:00:00",
          "2018-04-05T00:00:00",
          "2018-04-06T00:00:00",
          "2018-04-07T00:00:00",
          "2018-04-08T00:00:00",
          "2018-04-09T00:00:00",
          "2018-04-10T00:00:00",
          "2018-04-11T00:00:00",
          "2018-04-12T00:00:00",
          "2018-04-13T00:00:00",
          "2018-04-14T00:00:00",
          "2018-04-15T00:00:00",
          "2018-04-16T00:00:00",
          "2018-04-17T00:00:00",
          "2018-04-18T00:00:00",
          "2018-04-19T00:00:00",
          "2018-04-20T00:00:00",
          "2018-04-21T00:00:00",
          "2018-04-22T00:00:00",
          "2018-04-23T00:00:00",
          "2018-04-24T00:00:00",
          "2018-04-25T00:00:00",
          "2018-04-26T00:00:00",
          "2018-04-27T00:00:00",
          "2018-04-28T00:00:00",
          "2018-04-29T00:00:00",
          "2018-04-30T00:00:00",
          "2018-05-01T00:00:00",
          "2018-05-02T00:00:00",
          "2018-05-03T00:00:00",
          "2018-05-04T00:00:00",
          "2018-05-05T00:00:00",
          "2018-05-06T00:00:00",
          "2018-05-07T00:00:00",
          "2018-05-08T00:00:00",
          "2018-05-09T00:00:00",
          "2018-05-10T00:00:00",
          "2018-05-11T00:00:00",
          "2018-05-12T00:00:00",
          "2018-05-13T00:00:00",
          "2018-05-14T00:00:00",
          "2018-05-15T00:00:00",
          "2018-05-16T00:00:00",
          "2018-05-17T00:00:00",
          "2018-05-18T00:00:00",
          "2018-05-19T00:00:00",
          "2018-05-20T00:00:00",
          "2018-05-21T00:00:00",
          "2018-05-22T00:00:00",
          "2018-05-23T00:00:00",
          "2018-05-24T00:00:00",
          "2018-05-25T00:00:00",
          "2018-05-26T00:00:00",
          "2018-05-27T00:00:00",
          "2018-05-28T00:00:00",
          "2018-05-29T00:00:00",
          "2018-05-30T00:00:00",
          "2018-05-31T00:00:00",
          "2018-06-01T00:00:00",
          "2018-06-02T00:00:00",
          "2018-06-03T00:00:00",
          "2018-06-04T00:00:00",
          "2018-06-05T00:00:00",
          "2018-06-06T00:00:00",
          "2018-06-07T00:00:00",
          "2018-06-08T00:00:00",
          "2018-06-09T00:00:00",
          "2018-06-10T00:00:00",
          "2018-06-11T00:00:00",
          "2018-06-12T00:00:00",
          "2018-06-13T00:00:00",
          "2018-06-14T00:00:00",
          "2018-06-15T00:00:00",
          "2018-06-16T00:00:00",
          "2018-06-17T00:00:00",
          "2018-06-18T00:00:00",
          "2018-06-19T00:00:00",
          "2018-06-20T00:00:00",
          "2018-06-21T00:00:00",
          "2018-06-22T00:00:00",
          "2018-06-23T00:00:00",
          "2018-06-24T00:00:00",
          "2018-06-25T00:00:00",
          "2018-06-26T00:00:00",
          "2018-06-27T00:00:00",
          "2018-06-28T00:00:00",
          "2018-06-29T00:00:00",
          "2018-06-30T00:00:00",
          "2018-07-01T00:00:00",
          "2018-07-02T00:00:00",
          "2018-07-03T00:00:00",
          "2018-07-04T00:00:00",
          "2018-07-05T00:00:00",
          "2018-07-06T00:00:00",
          "2018-07-07T00:00:00",
          "2018-07-08T00:00:00",
          "2018-07-09T00:00:00",
          "2018-07-10T00:00:00",
          "2018-07-11T00:00:00",
          "2018-07-12T00:00:00",
          "2018-07-13T00:00:00",
          "2018-07-14T00:00:00",
          "2018-07-15T00:00:00",
          "2018-07-16T00:00:00",
          "2018-07-17T00:00:00",
          "2018-07-18T00:00:00",
          "2018-07-19T00:00:00",
          "2018-07-20T00:00:00",
          "2018-07-21T00:00:00",
          "2018-07-22T00:00:00",
          "2018-07-23T00:00:00",
          "2018-07-24T00:00:00",
          "2018-07-25T00:00:00",
          "2018-07-26T00:00:00",
          "2018-07-27T00:00:00",
          "2018-07-28T00:00:00",
          "2018-07-29T00:00:00",
          "2018-07-30T00:00:00",
          "2018-07-31T00:00:00",
          "2018-08-01T00:00:00",
          "2018-08-02T00:00:00",
          "2018-08-03T00:00:00",
          "2018-08-04T00:00:00",
          "2018-08-05T00:00:00",
          "2018-08-06T00:00:00",
          "2018-08-07T00:00:00",
          "2018-08-08T00:00:00",
          "2018-08-09T00:00:00",
          "2018-08-10T00:00:00",
          "2018-08-11T00:00:00",
          "2018-08-12T00:00:00",
          "2018-08-13T00:00:00",
          "2018-08-14T00:00:00",
          "2018-08-15T00:00:00",
          "2018-08-16T00:00:00",
          "2018-08-17T00:00:00",
          "2018-08-18T00:00:00",
          "2018-08-19T00:00:00",
          "2018-08-20T00:00:00",
          "2018-08-21T00:00:00",
          "2018-08-22T00:00:00",
          "2018-08-23T00:00:00",
          "2018-08-24T00:00:00",
          "2018-08-25T00:00:00",
          "2018-08-26T00:00:00",
          "2018-08-27T00:00:00",
          "2018-08-28T00:00:00"
         ],
         "xaxis": "x",
         "y": [
          1118708.25,
          1160419.9,
          1411157,
          621132.25,
          645895.25,
          72356,
          134886.5,
          380445,
          1009633.5,
          458869,
          699266,
          1025203.8,
          2179554,
          1224137,
          1433009.5,
          347038.8,
          385804,
          1161351,
          1060700,
          752590,
          1465235,
          1086618,
          2006023,
          1393523,
          1852025,
          1780181,
          1352158,
          2279309.65,
          2660082.9,
          1912014,
          231319,
          2022485.35,
          1724831,
          1305087.75,
          1321534,
          1170568.25,
          1243509.9,
          875812,
          1205168,
          1280596.25,
          1211442.7,
          1051324.8,
          1501052.55,
          789121.3,
          1443910.5,
          1486867.3,
          3562097.4,
          898851.15,
          1383972.25,
          1647175,
          808056.5,
          705965.25,
          1449506,
          2251301.6,
          1709794,
          1332370.5,
          1154649.55,
          825331,
          548556,
          1734083.5,
          1546003,
          1779476,
          2088691.75,
          1142337.5,
          1469364,
          869743.25,
          1720710,
          1823591,
          1253499.05,
          1884577.5,
          1282309.5,
          1597441.5,
          576140.5,
          463779.5,
          317775,
          902921.5,
          735320.2,
          848907.5,
          1092199,
          607263.5,
          1461831,
          1294310,
          966908,
          2082339,
          1721350.6,
          941450,
          1350933.75,
          3330258,
          3697119.15,
          12091036.55,
          13915010.5,
          17689978.5,
          4392660,
          1562438.75,
          1847314.35,
          3353584.7,
          1922331.25,
          4739173,
          2252224.75,
          1450043,
          1637085.6,
          2312992,
          1552139,
          1191474.9,
          2240774.15,
          1460127.2,
          1870596.7,
          1149949.65,
          2170307.9,
          3192466.15,
          2097000.55,
          2492741.1,
          2093677.7,
          2319362.75,
          2105339,
          5532691.1,
          4322019.6,
          2101737,
          4413879.3,
          1736468.44,
          3891058.92,
          1173047,
          1469641.55,
          3428877.79,
          2784087,
          3739986.5,
          2104513.09,
          3069702.5,
          823755,
          2213943.29,
          2702978.5,
          2986460.5,
          1984861.5,
          2360661.71,
          1381373.8,
          1418930.26,
          2128526.5,
          2235013.09,
          2261430.75,
          1618432.76,
          4885431.92,
          8141058.57,
          4725822.59,
          7948517.54,
          14101571.09,
          40215578.47,
          30308258.11,
          61732545.94,
          11005615.72,
          7656961.14,
          4453455.79,
          3784466.89,
          2770142.3,
          2646850.4,
          1912352.37,
          1933507.9,
          1395964.4,
          2239777.61,
          4204269.01,
          3571096.15,
          2730196.49,
          1827582.42,
          1789493.2,
          1186203.3,
          857673.05,
          2287570.02,
          2505457.8,
          2637018.7,
          2773165.9,
          2179141.7,
          1731745.8,
          2229185.6,
          2990930,
          2850972.5,
          2143629,
          2169928.45,
          2320601.3,
          1165756.6,
          2869542.3,
          2131894.45,
          2423751.9,
          2955631.55,
          3801453.4,
          4024736.7,
          2534167.5,
          4287217,
          5772819.4,
          7159364.25,
          5255867.4,
          4283738.7,
          5163620.1,
          3005740.9,
          6123336.4,
          4318827.04,
          12269349.6,
          3568712.4,
          1870752.4,
          1079378,
          1036573.5,
          2747204.2,
          1772460.5,
          2963998.5,
          1942234,
          1484176,
          1277641.15,
          995647.5,
          2453914,
          2369656.4,
          1825879,
          1694218.9,
          1786759.5,
          1950625,
          987995.9,
          2112097.9,
          3556654.9,
          1957236.5,
          2955892.5,
          2084275.9,
          3112184,
          2239543,
          3103784.3,
          3748063.5,
          3140219.3,
          3534963,
          2857548.25,
          2655774.5,
          1541159,
          2877086,
          2083860.2,
          2862536.5,
          2369703,
          1713399.5,
          2992739,
          833813,
          1636644,
          2551797.5,
          1808409.5,
          2314225,
          2144149,
          2586262,
          2624300.5,
          2437856.45,
          2540316.5,
          2360948.5,
          2517094.65,
          2199315.5,
          1156405,
          4031445.5,
          3212003,
          3617037,
          4239006,
          2330085.5,
          1540384.5,
          1258764.75,
          1075988,
          1695948,
          1713269,
          1308869.5,
          1727293,
          1993004,
          2032269,
          1263741.5,
          3051493.4,
          3021883,
          8556561,
          10588959,
          8475789.5,
          5047110.25,
          4374695.5,
          7982193.25,
          4712184.5,
          4908235.25,
          2474096.25,
          1903685.5,
          1805114.4,
          2653867.5,
          4097624.5,
          2356416.3,
          2721819.75,
          3878030,
          2614356,
          4163938.15,
          4862567,
          4598410,
          4467547.45,
          4528165.9,
          4432012,
          7771310.65,
          12522198.25,
          3793900.4,
          9589304.25,
          4737609.25,
          4897403,
          5343860,
          2758481,
          1824738,
          702051.25,
          2527603.5,
          3302572.5,
          2433733.75,
          3327151.75,
          2693308,
          2844440,
          1523698,
          1063151.75,
          1582893,
          1586763.75,
          2638120,
          2286054.75,
          1297546.5,
          599947,
          1769241,
          1654213.5,
          1577166.25,
          2299535.25,
          1657622,
          1262812.75,
          783004.5,
          1865721,
          1892739,
          1573908,
          4057572.75,
          92928503.19,
          21450429.92,
          19580333.3,
          26476924.41,
          2076477.55,
          1304922,
          1738984.5,
          1502914.75,
          1683791.16,
          873240,
          1987945,
          1457459,
          1539352.22,
          4136463.1,
          2356425.11,
          1381705.65,
          1472859.22,
          1663048.2,
          2495932,
          1949843,
          37734642.99,
          20830080,
          2077171.16,
          2531995.63,
          2724578.86,
          978802.25,
          1652150.2,
          6445306.41,
          3734952.3,
          2393690.95,
          2970479.42,
          3577148.6,
          4626733.31,
          1735774.05,
          1685783.5,
          1561536.37,
          791971,
          676866.09,
          578692,
          608605,
          708050.05,
          1948907,
          1451897.8,
          990430.05,
          733130.9,
          1718459,
          1181019.31,
          945162.1,
          2062397.1,
          1261343,
          964503.99,
          1492064.05,
          1110672.1,
          2504663.1,
          2340449.35,
          2425154.01,
          1233877.6,
          1119413.5,
          737543.98,
          1427261.65,
          1125478.4,
          859834.99,
          1094321,
          2683860.7,
          3000615.5,
          2267639.86,
          2112864.51,
          3665690.5,
          2120691.17,
          2461029.2,
          2488683.34,
          1041133.78,
          1492021.42,
          3282058.97,
          2080465.78,
          4242168.75,
          5968445.22,
          1522849.06,
          1016182.01,
          807930.7,
          844889.5,
          3610117.45,
          6872902.75,
          3497074.5,
          1859888.5,
          1734699.42,
          11144580.01,
          17746767.1,
          1485595,
          1377259.59,
          1123829.9,
          1682560.47,
          990956,
          1233003,
          1194321.44,
          2013968.34,
          2299559.04,
          4270750.89,
          2100460.79,
          1842911,
          1378283,
          1898734.2,
          2230256.11,
          833395.7,
          2891646.8,
          982970.33,
          1289923.01,
          672571.64,
          867616.47,
          1834968.65,
          1951618.79,
          933047.7,
          868169.4,
          2158394.8,
          664193,
          625668,
          802687.5,
          1717712.4,
          3818259.09,
          5432725,
          1852403.5,
          801812,
          1576553.3800000001,
          1374656,
          1498339,
          3054711.4,
          2158300.53,
          1187774,
          688895,
          1368263,
          1565660.09,
          1293103.9,
          4978642,
          3932013,
          1331770,
          847581,
          659218.5,
          1976660.09,
          5329317.2,
          5875519.75,
          2338307.5,
          1771565.9,
          1362478,
          1358311.45,
          38225938.59,
          1765912.5,
          4821022.05,
          2140615,
          1314090.5,
          770513,
          1206549.35,
          2572828.2,
          3886427.2,
          9994197,
          2633188.95,
          1115329.5,
          1278696.5,
          1664990.59,
          1094588.01,
          1022980,
          5064460.55,
          1985012.2,
          930033.5,
          818726,
          924597.75,
          1814233.7,
          637615,
          2792586.25,
          7125101.25,
          1747068.1,
          1057733,
          984424,
          1989397,
          1769573.75,
          3145888,
          21944183.33,
          36962921,
          1044018,
          1447542.8,
          1042815.8,
          2639333.9,
          3914808.17,
          106948168.62,
          62338479.4,
          32294401.28,
          38014470.26,
          45086370.3,
          31890441.96,
          43584753.99,
          149393070.2,
          60258723.72,
          58004660.37,
          14925299.35,
          7323193.28,
          3177621.14,
          8501951.12,
          2098354.16,
          1945555.45,
          1236830.23,
          2234410.55,
          1529123.7,
          1898430.75,
          6761139.83,
          3257603.5,
          1798889.83,
          1090677.75,
          2531772.85,
          1782806.93,
          2025551.3,
          2212378.63,
          3506264.86,
          1290723.08,
          565823.79,
          2087700.62,
          1689917.4,
          1633151.04,
          2479844.95,
          3357702.3,
          1461977.49,
          1270302.52,
          1505663.7,
          2488300.86,
          1926582.5,
          1325115.16,
          2886995.31,
          1519655.66,
          651801.75,
          10149816.38,
          3891030.95,
          4054086.95,
          1597891.4,
          5762057.23,
          1149817.1,
          924390.72,
          1141560.25,
          1211514.5,
          1543182.59,
          884208.35,
          3242829.84,
          979851.25,
          890074.25,
          1216568.54,
          2271547.1,
          1662722.02,
          1128794.4,
          982598.2,
          933722.1,
          983609.6,
          1014701.4,
          1694282.7,
          1814619.4,
          1798677.7,
          1719904.95,
          6777856.16,
          2468047.05,
          1371111.8,
          1374507.95,
          5037850.63,
          1898271.75,
          1200310.51,
          1370368.7,
          978926.9,
          1469379.95,
          1507989,
          1063878.47,
          1426838.6,
          1744973.85,
          1547874.5,
          1701056.25,
          2723909.18,
          1372079.55,
          2625390.26,
          9667093.9,
          16262254.8,
          19975764.73,
          11211832.01,
          61288855.81,
          17461924.05,
          12725620.4,
          16979059.3,
          14470061.3,
          6738067.6,
          7049664.54,
          36090747.1,
          41459206.3,
          8005522.95,
          6652645.93,
          21995256.35,
          6772109,
          5740753.95,
          8181254.9,
          8517676.45,
          9347029.55,
          6860313.8,
          10070602.65,
          7585488.58,
          4755703.9,
          9917029.3,
          11691873.9,
          37165734.9,
          82111342.75,
          18712904.4,
          2724467.1,
          1428298.7,
          2351859.6,
          1916489.08,
          2414905.95,
          2685943.4,
          15256981.22,
          11606303.65,
          9066279.66,
          14116769.25,
          28446575.7,
          24297176.6,
          10633897.3,
          3699559.85,
          3331718.2,
          1792446.1,
          1916699.95,
          3252163,
          3470036.25,
          1803739.37,
          2049103.65,
          2386352.65,
          4447412.85,
          2111205.16,
          1657641.25,
          5036682.95,
          1789535.65,
          2039718.2,
          1885112.44,
          10522383.9,
          2796691.8,
          2476545.38,
          2001848.4,
          2689097.9,
          2433777.7,
          2118620.8,
          3545163.41,
          3365662.4,
          2562040.26,
          2577603.75,
          2329784.87,
          1506296.8,
          3561730.85,
          2988359.35,
          1860433.25,
          1965621.25,
          3003492.6,
          3951442.15,
          58096176.25,
          17088634.25,
          10681747.05,
          21532100.9,
          15383769.19,
          29750987.5,
          18185840.6,
          23039783.1,
          11168913.93,
          6516687.25,
          15767454.3,
          15401344.1,
          12979267.3,
          14359440.05,
          22283736.15,
          8229987.5,
          7986266.3,
          9534291.3,
          7812944.45,
          9929658.2,
          4632667.75,
          8951844.05,
          6314134,
          14623871.65,
          11835170.75,
          4578430.54,
          5517283.64,
          8027595.55,
          10745517.65,
          5748388.05,
          7506361.8,
          5782224.5,
          5374531.95,
          8799268.62,
          8013934.15,
          7972666.3,
          7513337,
          9302489.95,
          7391707,
          6167826.65,
          6293878,
          3564750.75,
          8139465.25,
          5436970.1,
          4149560.4,
          1954064.4,
          6668130.4,
          10709294,
          7825625.6,
          13569386.05,
          6402609.85,
          6647323.1,
          5584511,
          8305033.1,
          5488626.29,
          6541796.9,
          6019901.9,
          3673323.5,
          3440852.2,
          4947557,
          9381480.1,
          7466192.15,
          5526182.4,
          10122141.5,
          7641321.6,
          7730446.5,
          4199626.55,
          7982286.4,
          9027237.19,
          9430469.5,
          12874700.6,
          6372062.6,
          4739359.6,
          4537872.5,
          9628716.6,
          8806649,
          8132606.6,
          15043808.95,
          5040969,
          4223125,
          5355850.25,
          5363136,
          4132521.3,
          4375449,
          6184771.8,
          4513383.05,
          4655740.1,
          5586626.5,
          3739662,
          3931426.75,
          4636453.5,
          3206938,
          3204888.9,
          1280213.3,
          6404055.3,
          3589711.8,
          3945385.72,
          2229182.57,
          3145494.3,
          2137158.5,
          7076051.7,
          10170487.59,
          19238180.5,
          1966766.05,
          3975588.1,
          14796544.62,
          3223113.9,
          3942569,
          3826602.4,
          3355517.6,
          1865996,
          922277.6,
          1230115.5,
          2630271.6,
          3070743.4,
          1869390.95,
          1837522.25
         ],
         "yaxis": "y"
        }
       ],
       "layout": {
        "legend": {
         "tracegroupgap": 0
        },
        "template": {
         "data": {
          "bar": [
           {
            "error_x": {
             "color": "#2a3f5f"
            },
            "error_y": {
             "color": "#2a3f5f"
            },
            "marker": {
             "line": {
              "color": "#E5ECF6",
              "width": 0.5
             },
             "pattern": {
              "fillmode": "overlay",
              "size": 10,
              "solidity": 0.2
             }
            },
            "type": "bar"
           }
          ],
          "barpolar": [
           {
            "marker": {
             "line": {
              "color": "#E5ECF6",
              "width": 0.5
             },
             "pattern": {
              "fillmode": "overlay",
              "size": 10,
              "solidity": 0.2
             }
            },
            "type": "barpolar"
           }
          ],
          "carpet": [
           {
            "aaxis": {
             "endlinecolor": "#2a3f5f",
             "gridcolor": "white",
             "linecolor": "white",
             "minorgridcolor": "white",
             "startlinecolor": "#2a3f5f"
            },
            "baxis": {
             "endlinecolor": "#2a3f5f",
             "gridcolor": "white",
             "linecolor": "white",
             "minorgridcolor": "white",
             "startlinecolor": "#2a3f5f"
            },
            "type": "carpet"
           }
          ],
          "choropleth": [
           {
            "colorbar": {
             "outlinewidth": 0,
             "ticks": ""
            },
            "type": "choropleth"
           }
          ],
          "contour": [
           {
            "colorbar": {
             "outlinewidth": 0,
             "ticks": ""
            },
            "colorscale": [
             [
              0,
              "#0d0887"
             ],
             [
              0.1111111111111111,
              "#46039f"
             ],
             [
              0.2222222222222222,
              "#7201a8"
             ],
             [
              0.3333333333333333,
              "#9c179e"
             ],
             [
              0.4444444444444444,
              "#bd3786"
             ],
             [
              0.5555555555555556,
              "#d8576b"
             ],
             [
              0.6666666666666666,
              "#ed7953"
             ],
             [
              0.7777777777777778,
              "#fb9f3a"
             ],
             [
              0.8888888888888888,
              "#fdca26"
             ],
             [
              1,
              "#f0f921"
             ]
            ],
            "type": "contour"
           }
          ],
          "contourcarpet": [
           {
            "colorbar": {
             "outlinewidth": 0,
             "ticks": ""
            },
            "type": "contourcarpet"
           }
          ],
          "heatmap": [
           {
            "colorbar": {
             "outlinewidth": 0,
             "ticks": ""
            },
            "colorscale": [
             [
              0,
              "#0d0887"
             ],
             [
              0.1111111111111111,
              "#46039f"
             ],
             [
              0.2222222222222222,
              "#7201a8"
             ],
             [
              0.3333333333333333,
              "#9c179e"
             ],
             [
              0.4444444444444444,
              "#bd3786"
             ],
             [
              0.5555555555555556,
              "#d8576b"
             ],
             [
              0.6666666666666666,
              "#ed7953"
             ],
             [
              0.7777777777777778,
              "#fb9f3a"
             ],
             [
              0.8888888888888888,
              "#fdca26"
             ],
             [
              1,
              "#f0f921"
             ]
            ],
            "type": "heatmap"
           }
          ],
          "heatmapgl": [
           {
            "colorbar": {
             "outlinewidth": 0,
             "ticks": ""
            },
            "colorscale": [
             [
              0,
              "#0d0887"
             ],
             [
              0.1111111111111111,
              "#46039f"
             ],
             [
              0.2222222222222222,
              "#7201a8"
             ],
             [
              0.3333333333333333,
              "#9c179e"
             ],
             [
              0.4444444444444444,
              "#bd3786"
             ],
             [
              0.5555555555555556,
              "#d8576b"
             ],
             [
              0.6666666666666666,
              "#ed7953"
             ],
             [
              0.7777777777777778,
              "#fb9f3a"
             ],
             [
              0.8888888888888888,
              "#fdca26"
             ],
             [
              1,
              "#f0f921"
             ]
            ],
            "type": "heatmapgl"
           }
          ],
          "histogram": [
           {
            "marker": {
             "pattern": {
              "fillmode": "overlay",
              "size": 10,
              "solidity": 0.2
             }
            },
            "type": "histogram"
           }
          ],
          "histogram2d": [
           {
            "colorbar": {
             "outlinewidth": 0,
             "ticks": ""
            },
            "colorscale": [
             [
              0,
              "#0d0887"
             ],
             [
              0.1111111111111111,
              "#46039f"
             ],
             [
              0.2222222222222222,
              "#7201a8"
             ],
             [
              0.3333333333333333,
              "#9c179e"
             ],
             [
              0.4444444444444444,
              "#bd3786"
             ],
             [
              0.5555555555555556,
              "#d8576b"
             ],
             [
              0.6666666666666666,
              "#ed7953"
             ],
             [
              0.7777777777777778,
              "#fb9f3a"
             ],
             [
              0.8888888888888888,
              "#fdca26"
             ],
             [
              1,
              "#f0f921"
             ]
            ],
            "type": "histogram2d"
           }
          ],
          "histogram2dcontour": [
           {
            "colorbar": {
             "outlinewidth": 0,
             "ticks": ""
            },
            "colorscale": [
             [
              0,
              "#0d0887"
             ],
             [
              0.1111111111111111,
              "#46039f"
             ],
             [
              0.2222222222222222,
              "#7201a8"
             ],
             [
              0.3333333333333333,
              "#9c179e"
             ],
             [
              0.4444444444444444,
              "#bd3786"
             ],
             [
              0.5555555555555556,
              "#d8576b"
             ],
             [
              0.6666666666666666,
              "#ed7953"
             ],
             [
              0.7777777777777778,
              "#fb9f3a"
             ],
             [
              0.8888888888888888,
              "#fdca26"
             ],
             [
              1,
              "#f0f921"
             ]
            ],
            "type": "histogram2dcontour"
           }
          ],
          "mesh3d": [
           {
            "colorbar": {
             "outlinewidth": 0,
             "ticks": ""
            },
            "type": "mesh3d"
           }
          ],
          "parcoords": [
           {
            "line": {
             "colorbar": {
              "outlinewidth": 0,
              "ticks": ""
             }
            },
            "type": "parcoords"
           }
          ],
          "pie": [
           {
            "automargin": true,
            "type": "pie"
           }
          ],
          "scatter": [
           {
            "fillpattern": {
             "fillmode": "overlay",
             "size": 10,
             "solidity": 0.2
            },
            "type": "scatter"
           }
          ],
          "scatter3d": [
           {
            "line": {
             "colorbar": {
              "outlinewidth": 0,
              "ticks": ""
             }
            },
            "marker": {
             "colorbar": {
              "outlinewidth": 0,
              "ticks": ""
             }
            },
            "type": "scatter3d"
           }
          ],
          "scattercarpet": [
           {
            "marker": {
             "colorbar": {
              "outlinewidth": 0,
              "ticks": ""
             }
            },
            "type": "scattercarpet"
           }
          ],
          "scattergeo": [
           {
            "marker": {
             "colorbar": {
              "outlinewidth": 0,
              "ticks": ""
             }
            },
            "type": "scattergeo"
           }
          ],
          "scattergl": [
           {
            "marker": {
             "colorbar": {
              "outlinewidth": 0,
              "ticks": ""
             }
            },
            "type": "scattergl"
           }
          ],
          "scattermapbox": [
           {
            "marker": {
             "colorbar": {
              "outlinewidth": 0,
              "ticks": ""
             }
            },
            "type": "scattermapbox"
           }
          ],
          "scatterpolar": [
           {
            "marker": {
             "colorbar": {
              "outlinewidth": 0,
              "ticks": ""
             }
            },
            "type": "scatterpolar"
           }
          ],
          "scatterpolargl": [
           {
            "marker": {
             "colorbar": {
              "outlinewidth": 0,
              "ticks": ""
             }
            },
            "type": "scatterpolargl"
           }
          ],
          "scatterternary": [
           {
            "marker": {
             "colorbar": {
              "outlinewidth": 0,
              "ticks": ""
             }
            },
            "type": "scatterternary"
           }
          ],
          "surface": [
           {
            "colorbar": {
             "outlinewidth": 0,
             "ticks": ""
            },
            "colorscale": [
             [
              0,
              "#0d0887"
             ],
             [
              0.1111111111111111,
              "#46039f"
             ],
             [
              0.2222222222222222,
              "#7201a8"
             ],
             [
              0.3333333333333333,
              "#9c179e"
             ],
             [
              0.4444444444444444,
              "#bd3786"
             ],
             [
              0.5555555555555556,
              "#d8576b"
             ],
             [
              0.6666666666666666,
              "#ed7953"
             ],
             [
              0.7777777777777778,
              "#fb9f3a"
             ],
             [
              0.8888888888888888,
              "#fdca26"
             ],
             [
              1,
              "#f0f921"
             ]
            ],
            "type": "surface"
           }
          ],
          "table": [
           {
            "cells": {
             "fill": {
              "color": "#EBF0F8"
             },
             "line": {
              "color": "white"
             }
            },
            "header": {
             "fill": {
              "color": "#C8D4E3"
             },
             "line": {
              "color": "white"
             }
            },
            "type": "table"
           }
          ]
         },
         "layout": {
          "annotationdefaults": {
           "arrowcolor": "#2a3f5f",
           "arrowhead": 0,
           "arrowwidth": 1
          },
          "autotypenumbers": "strict",
          "coloraxis": {
           "colorbar": {
            "outlinewidth": 0,
            "ticks": ""
           }
          },
          "colorscale": {
           "diverging": [
            [
             0,
             "#8e0152"
            ],
            [
             0.1,
             "#c51b7d"
            ],
            [
             0.2,
             "#de77ae"
            ],
            [
             0.3,
             "#f1b6da"
            ],
            [
             0.4,
             "#fde0ef"
            ],
            [
             0.5,
             "#f7f7f7"
            ],
            [
             0.6,
             "#e6f5d0"
            ],
            [
             0.7,
             "#b8e186"
            ],
            [
             0.8,
             "#7fbc41"
            ],
            [
             0.9,
             "#4d9221"
            ],
            [
             1,
             "#276419"
            ]
           ],
           "sequential": [
            [
             0,
             "#0d0887"
            ],
            [
             0.1111111111111111,
             "#46039f"
            ],
            [
             0.2222222222222222,
             "#7201a8"
            ],
            [
             0.3333333333333333,
             "#9c179e"
            ],
            [
             0.4444444444444444,
             "#bd3786"
            ],
            [
             0.5555555555555556,
             "#d8576b"
            ],
            [
             0.6666666666666666,
             "#ed7953"
            ],
            [
             0.7777777777777778,
             "#fb9f3a"
            ],
            [
             0.8888888888888888,
             "#fdca26"
            ],
            [
             1,
             "#f0f921"
            ]
           ],
           "sequentialminus": [
            [
             0,
             "#0d0887"
            ],
            [
             0.1111111111111111,
             "#46039f"
            ],
            [
             0.2222222222222222,
             "#7201a8"
            ],
            [
             0.3333333333333333,
             "#9c179e"
            ],
            [
             0.4444444444444444,
             "#bd3786"
            ],
            [
             0.5555555555555556,
             "#d8576b"
            ],
            [
             0.6666666666666666,
             "#ed7953"
            ],
            [
             0.7777777777777778,
             "#fb9f3a"
            ],
            [
             0.8888888888888888,
             "#fdca26"
            ],
            [
             1,
             "#f0f921"
            ]
           ]
          },
          "colorway": [
           "#636efa",
           "#EF553B",
           "#00cc96",
           "#ab63fa",
           "#FFA15A",
           "#19d3f3",
           "#FF6692",
           "#B6E880",
           "#FF97FF",
           "#FECB52"
          ],
          "font": {
           "color": "#2a3f5f"
          },
          "geo": {
           "bgcolor": "white",
           "lakecolor": "white",
           "landcolor": "#E5ECF6",
           "showlakes": true,
           "showland": true,
           "subunitcolor": "white"
          },
          "hoverlabel": {
           "align": "left"
          },
          "hovermode": "closest",
          "mapbox": {
           "style": "light"
          },
          "paper_bgcolor": "white",
          "plot_bgcolor": "#E5ECF6",
          "polar": {
           "angularaxis": {
            "gridcolor": "white",
            "linecolor": "white",
            "ticks": ""
           },
           "bgcolor": "#E5ECF6",
           "radialaxis": {
            "gridcolor": "white",
            "linecolor": "white",
            "ticks": ""
           }
          },
          "scene": {
           "xaxis": {
            "backgroundcolor": "#E5ECF6",
            "gridcolor": "white",
            "gridwidth": 2,
            "linecolor": "white",
            "showbackground": true,
            "ticks": "",
            "zerolinecolor": "white"
           },
           "yaxis": {
            "backgroundcolor": "#E5ECF6",
            "gridcolor": "white",
            "gridwidth": 2,
            "linecolor": "white",
            "showbackground": true,
            "ticks": "",
            "zerolinecolor": "white"
           },
           "zaxis": {
            "backgroundcolor": "#E5ECF6",
            "gridcolor": "white",
            "gridwidth": 2,
            "linecolor": "white",
            "showbackground": true,
            "ticks": "",
            "zerolinecolor": "white"
           }
          },
          "shapedefaults": {
           "line": {
            "color": "#2a3f5f"
           }
          },
          "ternary": {
           "aaxis": {
            "gridcolor": "white",
            "linecolor": "white",
            "ticks": ""
           },
           "baxis": {
            "gridcolor": "white",
            "linecolor": "white",
            "ticks": ""
           },
           "bgcolor": "#E5ECF6",
           "caxis": {
            "gridcolor": "white",
            "linecolor": "white",
            "ticks": ""
           }
          },
          "title": {
           "x": 0.05
          },
          "xaxis": {
           "automargin": true,
           "gridcolor": "white",
           "linecolor": "white",
           "ticks": "",
           "title": {
            "standoff": 15
           },
           "zerolinecolor": "white",
           "zerolinewidth": 2
          },
          "yaxis": {
           "automargin": true,
           "gridcolor": "white",
           "linecolor": "white",
           "ticks": "",
           "title": {
            "standoff": 15
           },
           "zerolinecolor": "white",
           "zerolinewidth": 2
          }
         }
        },
        "title": {
         "text": "Interactive Daily Sales Trend"
        },
        "xaxis": {
         "anchor": "y",
         "domain": [
          0,
          1
         ],
         "title": {
          "text": "created_at"
         }
        },
        "yaxis": {
         "anchor": "x",
         "domain": [
          0,
          1
         ],
         "title": {
          "text": "New_grand_total"
         }
        }
       }
      }
     },
     "metadata": {},
     "output_type": "display_data"
    }
   ],
   "source": [
    "fig = px.line(df_daily_sales, x=\"created_at\", y=\"New_grand_total\", title=\"Interactive Daily Sales Trend\")\n",
    "fig.show()"
   ]
  },
  {
   "cell_type": "code",
   "execution_count": 36,
   "id": "eba1d900-4140-4c1a-bf6f-8b0003f8811d",
   "metadata": {},
   "outputs": [
    {
     "data": {
      "application/vnd.plotly.v1+json": {
       "config": {
        "plotlyServerURL": "https://plot.ly"
       },
       "data": [
        {
         "alignmentgroup": "True",
         "hovertemplate": "category_name_1=%{x}<br>y=%{y}<extra></extra>",
         "legendgroup": "",
         "marker": {
          "color": "#636efa",
          "pattern": {
           "shape": ""
          }
         },
         "name": "",
         "offsetgroup": "",
         "orientation": "v",
         "showlegend": false,
         "textposition": "auto",
         "type": "bar",
         "x": [
          "Mobiles & Tablets",
          "Appliances",
          "Entertainment",
          "Computing",
          "Others",
          "Women's Fashion",
          "Men's Fashion",
          "Beauty & Grooming",
          "Superstore",
          "unkown",
          "Home & Living",
          "Health & Sports",
          "Soghaat",
          "Kids & Baby",
          "School & Education",
          "Books",
          "unknown"
         ],
         "xaxis": "x",
         "y": [
          2307710409.01,
          612092739.29,
          527741792.16,
          185670078.94,
          167023112,
          110994585.58,
          88262103.76,
          40977441.59,
          40409583.25,
          34036032.64,
          32278910.35,
          19623354.59,
          13406103.3,
          12043602.28,
          1877264.69,
          1007968.35,
          152915.3
         ],
         "yaxis": "y"
        }
       ],
       "layout": {
        "barmode": "relative",
        "legend": {
         "tracegroupgap": 0
        },
        "template": {
         "data": {
          "bar": [
           {
            "error_x": {
             "color": "#2a3f5f"
            },
            "error_y": {
             "color": "#2a3f5f"
            },
            "marker": {
             "line": {
              "color": "#E5ECF6",
              "width": 0.5
             },
             "pattern": {
              "fillmode": "overlay",
              "size": 10,
              "solidity": 0.2
             }
            },
            "type": "bar"
           }
          ],
          "barpolar": [
           {
            "marker": {
             "line": {
              "color": "#E5ECF6",
              "width": 0.5
             },
             "pattern": {
              "fillmode": "overlay",
              "size": 10,
              "solidity": 0.2
             }
            },
            "type": "barpolar"
           }
          ],
          "carpet": [
           {
            "aaxis": {
             "endlinecolor": "#2a3f5f",
             "gridcolor": "white",
             "linecolor": "white",
             "minorgridcolor": "white",
             "startlinecolor": "#2a3f5f"
            },
            "baxis": {
             "endlinecolor": "#2a3f5f",
             "gridcolor": "white",
             "linecolor": "white",
             "minorgridcolor": "white",
             "startlinecolor": "#2a3f5f"
            },
            "type": "carpet"
           }
          ],
          "choropleth": [
           {
            "colorbar": {
             "outlinewidth": 0,
             "ticks": ""
            },
            "type": "choropleth"
           }
          ],
          "contour": [
           {
            "colorbar": {
             "outlinewidth": 0,
             "ticks": ""
            },
            "colorscale": [
             [
              0,
              "#0d0887"
             ],
             [
              0.1111111111111111,
              "#46039f"
             ],
             [
              0.2222222222222222,
              "#7201a8"
             ],
             [
              0.3333333333333333,
              "#9c179e"
             ],
             [
              0.4444444444444444,
              "#bd3786"
             ],
             [
              0.5555555555555556,
              "#d8576b"
             ],
             [
              0.6666666666666666,
              "#ed7953"
             ],
             [
              0.7777777777777778,
              "#fb9f3a"
             ],
             [
              0.8888888888888888,
              "#fdca26"
             ],
             [
              1,
              "#f0f921"
             ]
            ],
            "type": "contour"
           }
          ],
          "contourcarpet": [
           {
            "colorbar": {
             "outlinewidth": 0,
             "ticks": ""
            },
            "type": "contourcarpet"
           }
          ],
          "heatmap": [
           {
            "colorbar": {
             "outlinewidth": 0,
             "ticks": ""
            },
            "colorscale": [
             [
              0,
              "#0d0887"
             ],
             [
              0.1111111111111111,
              "#46039f"
             ],
             [
              0.2222222222222222,
              "#7201a8"
             ],
             [
              0.3333333333333333,
              "#9c179e"
             ],
             [
              0.4444444444444444,
              "#bd3786"
             ],
             [
              0.5555555555555556,
              "#d8576b"
             ],
             [
              0.6666666666666666,
              "#ed7953"
             ],
             [
              0.7777777777777778,
              "#fb9f3a"
             ],
             [
              0.8888888888888888,
              "#fdca26"
             ],
             [
              1,
              "#f0f921"
             ]
            ],
            "type": "heatmap"
           }
          ],
          "heatmapgl": [
           {
            "colorbar": {
             "outlinewidth": 0,
             "ticks": ""
            },
            "colorscale": [
             [
              0,
              "#0d0887"
             ],
             [
              0.1111111111111111,
              "#46039f"
             ],
             [
              0.2222222222222222,
              "#7201a8"
             ],
             [
              0.3333333333333333,
              "#9c179e"
             ],
             [
              0.4444444444444444,
              "#bd3786"
             ],
             [
              0.5555555555555556,
              "#d8576b"
             ],
             [
              0.6666666666666666,
              "#ed7953"
             ],
             [
              0.7777777777777778,
              "#fb9f3a"
             ],
             [
              0.8888888888888888,
              "#fdca26"
             ],
             [
              1,
              "#f0f921"
             ]
            ],
            "type": "heatmapgl"
           }
          ],
          "histogram": [
           {
            "marker": {
             "pattern": {
              "fillmode": "overlay",
              "size": 10,
              "solidity": 0.2
             }
            },
            "type": "histogram"
           }
          ],
          "histogram2d": [
           {
            "colorbar": {
             "outlinewidth": 0,
             "ticks": ""
            },
            "colorscale": [
             [
              0,
              "#0d0887"
             ],
             [
              0.1111111111111111,
              "#46039f"
             ],
             [
              0.2222222222222222,
              "#7201a8"
             ],
             [
              0.3333333333333333,
              "#9c179e"
             ],
             [
              0.4444444444444444,
              "#bd3786"
             ],
             [
              0.5555555555555556,
              "#d8576b"
             ],
             [
              0.6666666666666666,
              "#ed7953"
             ],
             [
              0.7777777777777778,
              "#fb9f3a"
             ],
             [
              0.8888888888888888,
              "#fdca26"
             ],
             [
              1,
              "#f0f921"
             ]
            ],
            "type": "histogram2d"
           }
          ],
          "histogram2dcontour": [
           {
            "colorbar": {
             "outlinewidth": 0,
             "ticks": ""
            },
            "colorscale": [
             [
              0,
              "#0d0887"
             ],
             [
              0.1111111111111111,
              "#46039f"
             ],
             [
              0.2222222222222222,
              "#7201a8"
             ],
             [
              0.3333333333333333,
              "#9c179e"
             ],
             [
              0.4444444444444444,
              "#bd3786"
             ],
             [
              0.5555555555555556,
              "#d8576b"
             ],
             [
              0.6666666666666666,
              "#ed7953"
             ],
             [
              0.7777777777777778,
              "#fb9f3a"
             ],
             [
              0.8888888888888888,
              "#fdca26"
             ],
             [
              1,
              "#f0f921"
             ]
            ],
            "type": "histogram2dcontour"
           }
          ],
          "mesh3d": [
           {
            "colorbar": {
             "outlinewidth": 0,
             "ticks": ""
            },
            "type": "mesh3d"
           }
          ],
          "parcoords": [
           {
            "line": {
             "colorbar": {
              "outlinewidth": 0,
              "ticks": ""
             }
            },
            "type": "parcoords"
           }
          ],
          "pie": [
           {
            "automargin": true,
            "type": "pie"
           }
          ],
          "scatter": [
           {
            "fillpattern": {
             "fillmode": "overlay",
             "size": 10,
             "solidity": 0.2
            },
            "type": "scatter"
           }
          ],
          "scatter3d": [
           {
            "line": {
             "colorbar": {
              "outlinewidth": 0,
              "ticks": ""
             }
            },
            "marker": {
             "colorbar": {
              "outlinewidth": 0,
              "ticks": ""
             }
            },
            "type": "scatter3d"
           }
          ],
          "scattercarpet": [
           {
            "marker": {
             "colorbar": {
              "outlinewidth": 0,
              "ticks": ""
             }
            },
            "type": "scattercarpet"
           }
          ],
          "scattergeo": [
           {
            "marker": {
             "colorbar": {
              "outlinewidth": 0,
              "ticks": ""
             }
            },
            "type": "scattergeo"
           }
          ],
          "scattergl": [
           {
            "marker": {
             "colorbar": {
              "outlinewidth": 0,
              "ticks": ""
             }
            },
            "type": "scattergl"
           }
          ],
          "scattermapbox": [
           {
            "marker": {
             "colorbar": {
              "outlinewidth": 0,
              "ticks": ""
             }
            },
            "type": "scattermapbox"
           }
          ],
          "scatterpolar": [
           {
            "marker": {
             "colorbar": {
              "outlinewidth": 0,
              "ticks": ""
             }
            },
            "type": "scatterpolar"
           }
          ],
          "scatterpolargl": [
           {
            "marker": {
             "colorbar": {
              "outlinewidth": 0,
              "ticks": ""
             }
            },
            "type": "scatterpolargl"
           }
          ],
          "scatterternary": [
           {
            "marker": {
             "colorbar": {
              "outlinewidth": 0,
              "ticks": ""
             }
            },
            "type": "scatterternary"
           }
          ],
          "surface": [
           {
            "colorbar": {
             "outlinewidth": 0,
             "ticks": ""
            },
            "colorscale": [
             [
              0,
              "#0d0887"
             ],
             [
              0.1111111111111111,
              "#46039f"
             ],
             [
              0.2222222222222222,
              "#7201a8"
             ],
             [
              0.3333333333333333,
              "#9c179e"
             ],
             [
              0.4444444444444444,
              "#bd3786"
             ],
             [
              0.5555555555555556,
              "#d8576b"
             ],
             [
              0.6666666666666666,
              "#ed7953"
             ],
             [
              0.7777777777777778,
              "#fb9f3a"
             ],
             [
              0.8888888888888888,
              "#fdca26"
             ],
             [
              1,
              "#f0f921"
             ]
            ],
            "type": "surface"
           }
          ],
          "table": [
           {
            "cells": {
             "fill": {
              "color": "#EBF0F8"
             },
             "line": {
              "color": "white"
             }
            },
            "header": {
             "fill": {
              "color": "#C8D4E3"
             },
             "line": {
              "color": "white"
             }
            },
            "type": "table"
           }
          ]
         },
         "layout": {
          "annotationdefaults": {
           "arrowcolor": "#2a3f5f",
           "arrowhead": 0,
           "arrowwidth": 1
          },
          "autotypenumbers": "strict",
          "coloraxis": {
           "colorbar": {
            "outlinewidth": 0,
            "ticks": ""
           }
          },
          "colorscale": {
           "diverging": [
            [
             0,
             "#8e0152"
            ],
            [
             0.1,
             "#c51b7d"
            ],
            [
             0.2,
             "#de77ae"
            ],
            [
             0.3,
             "#f1b6da"
            ],
            [
             0.4,
             "#fde0ef"
            ],
            [
             0.5,
             "#f7f7f7"
            ],
            [
             0.6,
             "#e6f5d0"
            ],
            [
             0.7,
             "#b8e186"
            ],
            [
             0.8,
             "#7fbc41"
            ],
            [
             0.9,
             "#4d9221"
            ],
            [
             1,
             "#276419"
            ]
           ],
           "sequential": [
            [
             0,
             "#0d0887"
            ],
            [
             0.1111111111111111,
             "#46039f"
            ],
            [
             0.2222222222222222,
             "#7201a8"
            ],
            [
             0.3333333333333333,
             "#9c179e"
            ],
            [
             0.4444444444444444,
             "#bd3786"
            ],
            [
             0.5555555555555556,
             "#d8576b"
            ],
            [
             0.6666666666666666,
             "#ed7953"
            ],
            [
             0.7777777777777778,
             "#fb9f3a"
            ],
            [
             0.8888888888888888,
             "#fdca26"
            ],
            [
             1,
             "#f0f921"
            ]
           ],
           "sequentialminus": [
            [
             0,
             "#0d0887"
            ],
            [
             0.1111111111111111,
             "#46039f"
            ],
            [
             0.2222222222222222,
             "#7201a8"
            ],
            [
             0.3333333333333333,
             "#9c179e"
            ],
            [
             0.4444444444444444,
             "#bd3786"
            ],
            [
             0.5555555555555556,
             "#d8576b"
            ],
            [
             0.6666666666666666,
             "#ed7953"
            ],
            [
             0.7777777777777778,
             "#fb9f3a"
            ],
            [
             0.8888888888888888,
             "#fdca26"
            ],
            [
             1,
             "#f0f921"
            ]
           ]
          },
          "colorway": [
           "#636efa",
           "#EF553B",
           "#00cc96",
           "#ab63fa",
           "#FFA15A",
           "#19d3f3",
           "#FF6692",
           "#B6E880",
           "#FF97FF",
           "#FECB52"
          ],
          "font": {
           "color": "#2a3f5f"
          },
          "geo": {
           "bgcolor": "white",
           "lakecolor": "white",
           "landcolor": "#E5ECF6",
           "showlakes": true,
           "showland": true,
           "subunitcolor": "white"
          },
          "hoverlabel": {
           "align": "left"
          },
          "hovermode": "closest",
          "mapbox": {
           "style": "light"
          },
          "paper_bgcolor": "white",
          "plot_bgcolor": "#E5ECF6",
          "polar": {
           "angularaxis": {
            "gridcolor": "white",
            "linecolor": "white",
            "ticks": ""
           },
           "bgcolor": "#E5ECF6",
           "radialaxis": {
            "gridcolor": "white",
            "linecolor": "white",
            "ticks": ""
           }
          },
          "scene": {
           "xaxis": {
            "backgroundcolor": "#E5ECF6",
            "gridcolor": "white",
            "gridwidth": 2,
            "linecolor": "white",
            "showbackground": true,
            "ticks": "",
            "zerolinecolor": "white"
           },
           "yaxis": {
            "backgroundcolor": "#E5ECF6",
            "gridcolor": "white",
            "gridwidth": 2,
            "linecolor": "white",
            "showbackground": true,
            "ticks": "",
            "zerolinecolor": "white"
           },
           "zaxis": {
            "backgroundcolor": "#E5ECF6",
            "gridcolor": "white",
            "gridwidth": 2,
            "linecolor": "white",
            "showbackground": true,
            "ticks": "",
            "zerolinecolor": "white"
           }
          },
          "shapedefaults": {
           "line": {
            "color": "#2a3f5f"
           }
          },
          "ternary": {
           "aaxis": {
            "gridcolor": "white",
            "linecolor": "white",
            "ticks": ""
           },
           "baxis": {
            "gridcolor": "white",
            "linecolor": "white",
            "ticks": ""
           },
           "bgcolor": "#E5ECF6",
           "caxis": {
            "gridcolor": "white",
            "linecolor": "white",
            "ticks": ""
           }
          },
          "title": {
           "x": 0.05
          },
          "xaxis": {
           "automargin": true,
           "gridcolor": "white",
           "linecolor": "white",
           "ticks": "",
           "title": {
            "standoff": 15
           },
           "zerolinecolor": "white",
           "zerolinewidth": 2
          },
          "yaxis": {
           "automargin": true,
           "gridcolor": "white",
           "linecolor": "white",
           "ticks": "",
           "title": {
            "standoff": 15
           },
           "zerolinecolor": "white",
           "zerolinewidth": 2
          }
         }
        },
        "title": {
         "text": "Sales by Category"
        },
        "xaxis": {
         "anchor": "y",
         "domain": [
          0,
          1
         ],
         "title": {
          "text": "category_name_1"
         }
        },
        "yaxis": {
         "anchor": "x",
         "domain": [
          0,
          1
         ],
         "title": {
          "text": "y"
         }
        }
       }
      }
     },
     "metadata": {},
     "output_type": "display_data"
    }
   ],
   "source": [
    "fig = px.bar(df_category_sales, x=df_category_sales.index, y=df_category_sales.values, title=\"Sales by Category\")\n",
    "fig.show()\n"
   ]
  },
  {
   "cell_type": "code",
   "execution_count": 37,
   "id": "92f096e9-71c8-41a3-a774-77965cfdaf25",
   "metadata": {},
   "outputs": [
    {
     "name": "stderr",
     "output_type": "stream",
     "text": [
      "C:\\Users\\A0100\\AppData\\Local\\Temp\\ipykernel_10292\\423592629.py:2: FutureWarning:\n",
      "\n",
      "\n",
      "\n",
      "The `ci` parameter is deprecated. Use `errorbar=None` for the same effect.\n",
      "\n",
      "\n",
      "C:\\Users\\A0100\\AppData\\Local\\Temp\\ipykernel_10292\\423592629.py:2: FutureWarning:\n",
      "\n",
      "\n",
      "\n",
      "Passing `palette` without assigning `hue` is deprecated and will be removed in v0.14.0. Assign the `x` variable to `hue` and set `legend=False` for the same effect.\n",
      "\n",
      "\n"
     ]
    },
    {
     "data": {
      "image/png": "[encoded data removed]",
      "text/plain": [
       "<Figure size 1000x600 with 1 Axes>"
      ]
     },
     "metadata": {},
     "output_type": "display_data"
    }
   ],
   "source": [
    "plt.figure(figsize=(10, 6))\n",
    "sns.barplot(data=df, x=\"BI Status\", y=\"grand_total\", estimator=sum, ci=None, palette=\"coolwarm\")\n",
    "plt.title(\"Total Sales by BI Status\")\n",
    "plt.xlabel(\"BI Status\")\n",
    "plt.ylabel(\"Total Sales\")\n",
    "plt.xticks(rotation=45)\n",
    "plt.grid()\n",
    "plt.show()"
   ]
  },
  {
   "cell_type": "code",
   "execution_count": 38,
   "id": "3634714f-5b80-41d6-816a-c130d9311e20",
   "metadata": {},
   "outputs": [
    {
     "data": {
      "image/png": "[encoded data removed]",
      "text/plain": [
       "<Figure size 1200x600 with 1 Axes>"
      ]
     },
     "metadata": {},
     "output_type": "display_data"
    }
   ],
   "source": [
    "df_product_sales = df.groupby(\"sku\")[\"grand_total\"].sum().sort_values(ascending=False).head(10)\n",
    "\n",
    "plt.figure(figsize=(12, 6))\n",
    "df_product_sales.plot(kind=\"barh\", color=\"purple\")\n",
    "plt.xlabel(\"Total Sales\")\n",
    "plt.ylabel(\"Product (SKU)\")\n",
    "plt.title(\"Top 10 Products by Revenue\")\n",
    "plt.grid()\n",
    "plt.show()"
   ]
  },
  {
   "cell_type": "code",
   "execution_count": null,
   "id": "542f654a-09c1-4b0f-83d0-c2282011bb4c",
   "metadata": {},
   "outputs": [
    {
     "name": "stderr",
     "output_type": "stream",
     "text": [
      "C:\\Users\\Lenovo\\AppData\\Local\\Temp\\ipykernel_6328\\3634475479.py:5: DtypeWarning: Columns (1,2,3,7,10,11,12,13,16,17,18) have mixed types. Specify dtype option on import or set low_memory=False.\n",
      "  df = pd.read_csv(\"clean_file.csv\")\n"
     ]
    },
    {
     "data": {
      "image/png": "[encoded data removed]",
      "text/plain": [
       "<Figure size 300x200 with 1 Axes>"
      ]
     },
     "metadata": {},
     "output_type": "display_data"
    }
   ],
   "source": [
    "import pandas as pd\n",
    "import matplotlib.pyplot as plt\n",
    "\n",
    "# Load the dataset (update the filename if needed)\n",
    "df = pd.read_csv(\"clean_file.csv\")\n",
    "\n",
    "# Ensure column names are clean\n",
    "df.columns = df.columns.str.strip()\n",
    "\n",
    "# Calculate the total number of unique customers\n",
    "total_customers = df[\"Customer ID\"].nunique()\n",
    "\n",
    "# Create a simple card display\n",
    "plt.figure(figsize=(3, 2))\n",
    "plt.text(0.5, 0.5, f\"Total Customers\\n{total_customers}\", fontsize=15,\n",
    "         ha=\"center\", va=\"center\", bbox=dict(facecolor=\"lightblue\", edgecolor=\"black\", boxstyle=\"round,pad=0.5\"))\n",
    "\n",
    "plt.axis(\"off\")  # Hide axes\n",
    "plt.show() "
   ]
  },
  {
   "cell_type": "code",
   "execution_count": null,
   "id": "addebb66-16c7-4b08-9278-db1effdf0968",
   "metadata": {},
   "outputs": [
    {
     "name": "stdout",
     "output_type": "stream",
     "text": [
      "Total Returning Customers: 64831\n"
     ]
    },
    {
     "data": {
      "image/png": "[encoded data removed]",
      "text/plain": [
       "<Figure size 400x300 with 1 Axes>"
      ]
     },
     "metadata": {},
     "output_type": "display_data"
    }
   ],
   "source": [
    "customer_counts = df.groupby('Customer ID').size().reset_index(name='Purchase Count')\n",
    "customer_counts['IsReturning'] = (customer_counts['Purchase Count'] > 1).astype(int)\n",
    "returning_customers = customer_counts['IsReturning'].sum()\n",
    "print(\"Total Returning Customers:\", returning_customers)\n",
    "# Create a KPI Card\n",
    "fig, ax = plt.subplots(figsize=(4, 3))\n",
    "ax.text(0.5, 0.5, f\"Returning Customers\\n{returning_customers}\", \n",
    "        fontsize=14, ha='center', va='center', fontweight='bold')\n",
    "ax.set_xticks([])\n",
    "ax.set_yticks([])\n",
    "ax.spines['top'].set_visible(False)\n",
    "ax.spines['right'].set_visible(False)\n",
    "ax.spines['left'].set_visible(False)\n",
    "ax.spines['bottom'].set_visible(False)\n",
    "\n",
    "plt.title(\"Returning Customers KPI\", fontsize=12)\n",
    "plt.show()"
   ]
  },
  {
   "cell_type": "code",
   "execution_count": null,
   "id": "00a19343-237f-4dfd-9baa-a97c7892322b",
   "metadata": {},
   "outputs": [
    {
     "data": {
      "image/png": "[encoded data removed]",
      "text/plain": [
       "<Figure size 400x200 with 1 Axes>"
      ]
     },
     "metadata": {},
     "output_type": "display_data"
    }
   ],
   "source": [
    "customer_retention_rate = (returning_customers / total_customers) * 100\n",
    "\n",
    "# Create the figure\n",
    "fig, ax = plt.subplots(figsize=(4, 2))\n",
    "ax.set_xlim(0, 1)\n",
    "ax.set_ylim(0, 1)\n",
    "ax.axis(\"off\")\n",
    "\n",
    "# Display the KPI in the card\n",
    "ax.text(0.5, 0.7, \"Customer Retention Rate\", fontsize=12, ha=\"center\", fontweight=\"bold\")\n",
    "ax.text(0.5, 0.4, f\"{customer_retention_rate:.2f}%\", fontsize=20, ha=\"center\", color=\"blue\")\n",
    "\n",
    "# Show the card\n",
    "plt.show()"
   ]
  },
  {
   "cell_type": "code",
   "execution_count": null,
   "id": "eb6d01a4-4971-4ea2-966e-52d6276bf049",
   "metadata": {},
   "outputs": [
    {
     "data": {
      "image/png": "[encoded data removed]",
      "text/plain": [
       "<Figure size 1200x600 with 1 Axes>"
      ]
     },
     "metadata": {},
     "output_type": "display_data"
    }
   ],
   "source": [
    "df[\"created_at\"] = pd.to_datetime(df[\"created_at\"])\n",
    "\n",
    "# Aggregate ordered quantity by date\n",
    "df_grouped = df.groupby(\"created_at\")[\"qty_ordered\"].sum().reset_index()\n",
    "\n",
    "# Plot area chart\n",
    "plt.figure(figsize=(12, 6))\n",
    "plt.fill_between(df_grouped[\"created_at\"], df_grouped[\"qty_ordered\"], color=\"skyblue\", alpha=0.4)\n",
    "plt.plot(df_grouped[\"created_at\"], df_grouped[\"qty_ordered\"], color=\"blue\", linewidth=2)\n",
    "\n",
    "# Formatting the chart\n",
    "plt.xlabel(\"Date\")\n",
    "plt.ylabel(\"Total Ordered Quantity\")\n",
    "plt.title(\"Total Ordered Quantity Over Time\")\n",
    "plt.xticks(rotation=45)\n",
    "plt.grid(True, linestyle=\"--\", alpha=0.6)\n",
    "\n",
    "# Show plot\n",
    "plt.show()"
   ]
  },
  {
   "cell_type": "code",
   "execution_count": null,
   "id": "d4b18b10-6abb-4d63-908d-85c0d034a7de",
   "metadata": {},
   "outputs": [
    {
     "data": {
      "image/png": "[encoded data removed]",
      "text/plain": [
       "<Figure size 1200x600 with 1 Axes>"
      ]
     },
     "metadata": {},
     "output_type": "display_data"
    }
   ],
   "source": [
    "df[\"Customer ID\"] = df[\"Customer ID\"].astype(str)\n",
    "df[\"qty_ordered\"] = pd.to_numeric(df[\"qty_ordered\"], errors=\"coerce\")\n",
    "\n",
    "# تجميع الكمية المشتراة حسب كل عميل\n",
    "top_customers = df.groupby(\"Customer ID\")[\"qty_ordered\"].sum().nlargest(10)\n",
    "\n",
    "# رسم Stacked Column Chart\n",
    "plt.figure(figsize=(12, 6))\n",
    "top_customers.plot(kind=\"bar\", stacked=True, colormap=\"tab10\")\n",
    "\n",
    "# تخصيص الرسم\n",
    "plt.xlabel(\"Customer ID\")\n",
    "plt.ylabel(\"Total Ordered Quantity\")\n",
    "plt.title(\"Top 10 Customers by Ordered Quantity\")\n",
    "plt.xticks(rotation=45)\n",
    "plt.grid(axis=\"y\", linestyle=\"--\", alpha=0.7)\n",
    "\n",
    "# عرض المخطط\n",
    "plt.show()"
   ]
  },
  {
   "cell_type": "code",
   "execution_count": null,
   "id": "34099b2a-8aff-4ee3-a759-e01982849789",
   "metadata": {},
   "outputs": [],
   "source": []
  }
 ],
 "metadata": {
  "kernelspec": {
   "display_name": "Python 3",
   "language": "python",
   "name": "python3"
  },
  "language_info": {
   "codemirror_mode": {
    "name": "ipython",
    "version": 3
   },
   "file_extension": ".py",
   "mimetype": "text/x-python",
   "name": "python",
   "nbconvert_exporter": "python",
   "pygments_lexer": "ipython3",
   "version": "3.13.0"
  }
 },
 "nbformat": 4,
 "nbformat_minor": 5
}
